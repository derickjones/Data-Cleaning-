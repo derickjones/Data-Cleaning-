{
 "cells": [
  {
   "cell_type": "markdown",
   "id": "47806fd6",
   "metadata": {
    "id": "47806fd6"
   },
   "source": [
    "--------------------------------------------------------------\n",
    "# **Adverse Outcomes Analysis**\n",
    "--------------------------------------------------------------"
   ]
  },
  {
   "cell_type": "markdown",
   "id": "3d924d25",
   "metadata": {
    "id": "3d924d25"
   },
   "source": [
    "---------------------\n",
    "## **Context**\n",
    "---------------------\n",
    "\n",
    "\n",
    "\n",
    "----------------------\n",
    "## **Objective**  \n",
    "----------------------\n",
    "\n",
    "\n",
    "\n",
    "------------------------------------\n",
    "## **Dataset Description**\n",
    "------------------------------------\n",
    "\n",
    "The data contains information on employees' demographic details, work-related metrics, and attrition flag.\n",
    "\n",
    "* **Visit CSN** - Unique ED Tag\n",
    "\n",
    "\n"
   ]
  },
  {
   "cell_type": "markdown",
   "id": "f4f618f0",
   "metadata": {
    "id": "f4f618f0"
   },
   "source": [
    "## **Importing the required libraries and overview of the dataset**"
   ]
  },
  {
   "cell_type": "code",
   "execution_count": 1,
   "id": "ad1e8c83",
   "metadata": {
    "executionInfo": {
     "elapsed": 1110,
     "status": "ok",
     "timestamp": 1653850868597,
     "user": {
      "displayName": "Derick Jones",
      "userId": "05040782416209808795"
     },
     "user_tz": 300
    },
    "id": "ad1e8c83"
   },
   "outputs": [],
   "source": [
    "import pandas as pd\n",
    "\n",
    "import numpy as np\n",
    "\n",
    "import matplotlib.pyplot as plt\n",
    "\n",
    "import seaborn as sns\n",
    "\n",
    "# To scale the data using z-score\n",
    "from sklearn.preprocessing import StandardScaler\n",
    "\n",
    "from sklearn.model_selection import train_test_split\n",
    "\n",
    "# Algorithms to use\n",
    "from sklearn.discriminant_analysis import LinearDiscriminantAnalysis\n",
    "\n",
    "from sklearn.discriminant_analysis import QuadraticDiscriminantAnalysis\n",
    "\n",
    "from sklearn.linear_model import LogisticRegression\n",
    "\n",
    "from sklearn.neighbors import KNeighborsClassifier\n",
    "\n",
    "# Metrics to evaluate the model\n",
    "from sklearn import metrics\n",
    "\n",
    "from sklearn.metrics import confusion_matrix, classification_report, precision_recall_curve,recall_score, roc_auc_score\n",
    "\n",
    "from sklearn import tree\n",
    "\n",
    "from sklearn.tree import DecisionTreeClassifier\n",
    "\n",
    "from sklearn.ensemble import BaggingClassifier\n",
    "\n",
    "from sklearn.ensemble import RandomForestClassifier\n",
    "\n",
    "# For tuning the model\n",
    "from sklearn.model_selection import GridSearchCV\n",
    "\n",
    "# Importing PCA and t-SNE\n",
    "from sklearn.decomposition import PCA\n",
    "\n",
    "from sklearn.manifold import TSNE\n",
    "\n",
    "# To ignore warnings\n",
    "import warnings\n",
    "warnings.filterwarnings(\"ignore\")"
   ]
  },
  {
   "cell_type": "markdown",
   "id": "0a6cf4d6",
   "metadata": {
    "id": "0a6cf4d6"
   },
   "source": [
    "### **Loading the dataset**"
   ]
  },
  {
   "cell_type": "markdown",
   "id": "S24NxcqxWPJf",
   "metadata": {
    "id": "S24NxcqxWPJf"
   },
   "source": [
    "Merge Datasets"
   ]
  },
  {
   "cell_type": "code",
   "execution_count": null,
   "id": "2cf30986",
   "metadata": {
    "id": "2cf30986"
   },
   "outputs": [],
   "source": [
    "# Reading the dataset\n",
    "# LEP 1. Merge Lep 1 + Vitals/ICD10. Aidan 2020, 2021\n",
    "df1 = pd.read_csv('LEP2020.csv')\n",
    "df2 = pd.read_csv('LEP2021.csv')\n",
    "\n",
    "df3 = pd.concat([df1,df2])\n",
    "\n",
    "\n",
    "# LEP 2. Add on to LEP with previous visits and social history\n",
    "df4 = pd.read_excel('LEP2SEMN.2020.2021.xlsx')\n",
    "\n",
    "\n",
    "# Frequent Visitors by Year\n",
    "#df3 = pd.read_csv('3.csv')\n",
    "\n",
    "\n"
   ]
  },
  {
   "cell_type": "code",
   "execution_count": null,
   "id": "NBurPdf6ooFK",
   "metadata": {
    "id": "NBurPdf6ooFK"
   },
   "outputs": [],
   "source": [
    "# merge the data sets\n",
    "\n",
    "df = df3.merge(df4, on = 'csn', how = 'outer').fillna(np.nan)"
   ]
  },
  {
   "cell_type": "code",
   "execution_count": null,
   "id": "d21z3ZCFJKuv",
   "metadata": {
    "id": "d21z3ZCFJKuv"
   },
   "outputs": [],
   "source": [
    "#df = df4.merge(df3, on = 'mrn', how = 'outer').fillna(np.nan)"
   ]
  },
  {
   "cell_type": "code",
   "execution_count": null,
   "id": "a634b79b",
   "metadata": {
    "id": "a634b79b"
   },
   "outputs": [],
   "source": [
    "# create a copy\n",
    "dfcopy = df.copy()"
   ]
  },
  {
   "cell_type": "code",
   "execution_count": null,
   "id": "60d8e5df",
   "metadata": {
    "id": "60d8e5df"
   },
   "outputs": [],
   "source": [
    "#Reset\n",
    "df = dfcopy"
   ]
  },
  {
   "cell_type": "code",
   "execution_count": null,
   "id": "d78c3e43",
   "metadata": {
    "id": "d78c3e43"
   },
   "outputs": [],
   "source": [
    "# replace spaces in column title\n",
    "df.columns = df.columns.str.replace(' ', '')\n",
    "df.columns = df.columns.str.replace('(', '')\n",
    "df.columns = df.columns.str.replace(')', '')"
   ]
  },
  {
   "cell_type": "code",
   "execution_count": null,
   "id": "9e1542a1",
   "metadata": {
    "colab": {
     "base_uri": "https://localhost:8080/",
     "height": 473
    },
    "executionInfo": {
     "elapsed": 341,
     "status": "ok",
     "timestamp": 1652585317711,
     "user": {
      "displayName": "Derick Jones",
      "userId": "05040782416209808795"
     },
     "user_tz": 300
    },
    "id": "9e1542a1",
    "outputId": "df470f30-db9a-46ea-d6eb-1ea1c4abfced"
   },
   "outputs": [],
   "source": [
    "df.head()"
   ]
  },
  {
   "cell_type": "code",
   "execution_count": null,
   "id": "1cc48bf3",
   "metadata": {
    "colab": {
     "base_uri": "https://localhost:8080/"
    },
    "executionInfo": {
     "elapsed": 253,
     "status": "ok",
     "timestamp": 1652584670913,
     "user": {
      "displayName": "Derick Jones",
      "userId": "05040782416209808795"
     },
     "user_tz": 300
    },
    "id": "1cc48bf3",
    "outputId": "8385d9be-1d3c-4543-fd3d-91a531de0015"
   },
   "outputs": [],
   "source": [
    "#(rows,columns)\n",
    "df.shape"
   ]
  },
  {
   "cell_type": "markdown",
   "id": "6d298430",
   "metadata": {
    "id": "6d298430"
   },
   "source": [
    "### **Checking the info of the data**"
   ]
  },
  {
   "cell_type": "code",
   "execution_count": null,
   "id": "fe3d8a57",
   "metadata": {
    "colab": {
     "base_uri": "https://localhost:8080/"
    },
    "executionInfo": {
     "elapsed": 258,
     "status": "ok",
     "timestamp": 1652584311082,
     "user": {
      "displayName": "Derick Jones",
      "userId": "05040782416209808795"
     },
     "user_tz": 300
    },
    "id": "fe3d8a57",
    "outputId": "0c76af8c-4f94-454f-c805-b34bb6471ccd"
   },
   "outputs": [],
   "source": [
    "#pd.set_option('display.max_rows', None)\n",
    "#pd.set_option('display.max_columns', None)\n",
    "\n",
    "\n",
    "df.info()"
   ]
  },
  {
   "cell_type": "markdown",
   "id": "fyZFw-HRLixU",
   "metadata": {
    "id": "fyZFw-HRLixU"
   },
   "source": [
    "# Define Outcome of interest"
   ]
  },
  {
   "cell_type": "code",
   "execution_count": null,
   "id": "_jhLu7_gqYjA",
   "metadata": {
    "id": "_jhLu7_gqYjA"
   },
   "outputs": [],
   "source": [
    "# Define Variable\n",
    "df['outcome']=df['return_7day']"
   ]
  },
  {
   "cell_type": "code",
   "execution_count": null,
   "id": "RHxR861YgqfW",
   "metadata": {
    "id": "RHxR861YgqfW"
   },
   "outputs": [],
   "source": [
    "# Drop Outcome Variable\n",
    "df = df.drop(['return_7day'], axis = 1)"
   ]
  },
  {
   "cell_type": "code",
   "execution_count": null,
   "id": "bPCs-ftyjJBS",
   "metadata": {
    "id": "bPCs-ftyjJBS"
   },
   "outputs": [],
   "source": [
    "df['arrival_dt'] = pd.to_datetime(df['arrival_dt'])"
   ]
  },
  {
   "cell_type": "code",
   "execution_count": null,
   "id": "X9LNWR2zjylr",
   "metadata": {
    "id": "X9LNWR2zjylr"
   },
   "outputs": [],
   "source": [
    "from datetime import datetime, timedelta\n",
    "df['dtstart365'] = (df['arrival_dt']- timedelta(days =365))"
   ]
  },
  {
   "cell_type": "code",
   "execution_count": null,
   "id": "bXfzoLVcyeB6",
   "metadata": {
    "id": "bXfzoLVcyeB6"
   },
   "outputs": [],
   "source": [
    "df = df.reset_index()\n",
    "df['arrival_dt2'] = (df['arrival_dt'])"
   ]
  },
  {
   "cell_type": "code",
   "execution_count": null,
   "id": "tdPP2P-evXID",
   "metadata": {
    "colab": {
     "background_save": true
    },
    "id": "tdPP2P-evXID"
   },
   "outputs": [],
   "source": [
    "\n",
    "x = 365\n",
    "\n",
    "df['Date_Start'] = df['arrival_dt'] - pd.offsets.Day(x)\n",
    "df=df.set_index('arrival_dt').sort_index()\n",
    "df['Uniquecsn_x_days_ago'] = df.apply(lambda x: df.loc[x.Date_Start : x.arrival_dt2].mrn.nunique(), axis=1)\n",
    "df = df.reset_index()"
   ]
  },
  {
   "cell_type": "code",
   "execution_count": null,
   "id": "USbAMeGYqcQR",
   "metadata": {
    "colab": {
     "base_uri": "https://localhost:8080/",
     "height": 380
    },
    "executionInfo": {
     "elapsed": 267,
     "status": "error",
     "timestamp": 1652584813630,
     "user": {
      "displayName": "Derick Jones",
      "userId": "05040782416209808795"
     },
     "user_tz": 300
    },
    "id": "USbAMeGYqcQR",
    "outputId": "e84e4ea4-4bef-4572-b1b8-151d53c252cd"
   },
   "outputs": [],
   "source": [
    "x = np.where(df['arrival_dt'] > df['dtstart365'])\n",
    "\n",
    "df100 = df\n",
    "\n",
    "df100['x']= np.where(df['arrival_dt'] > df['dtstart365'])\n",
    "\n",
    "df100\n",
    "\n",
    "#df['visit365days'] = np.where(df['arrival_dt'] > df['dtstart365'])\n",
    "\n",
    "#df['WeekBB'] = np.where(df.DaysBetweenVisitsReturnEDVisit < 8,1,0)\n",
    "\n",
    "\n",
    "#df.where(df.dtstart365 < df.arrival_dt)"
   ]
  },
  {
   "cell_type": "code",
   "execution_count": null,
   "id": "EVqpP5-MpmhO",
   "metadata": {
    "id": "EVqpP5-MpmhO"
   },
   "outputs": [],
   "source": [
    "df1 = df[df.groupby(\"mrn\")['csn'].transform('size') > 1]"
   ]
  },
  {
   "cell_type": "code",
   "execution_count": null,
   "id": "i53iRPqvo_gO",
   "metadata": {
    "colab": {
     "base_uri": "https://localhost:8080/",
     "height": 287
    },
    "executionInfo": {
     "elapsed": 260,
     "status": "error",
     "timestamp": 1652583346916,
     "user": {
      "displayName": "Derick Jones",
      "userId": "05040782416209808795"
     },
     "user_tz": 300
    },
    "id": "i53iRPqvo_gO",
    "outputId": "21b41011-d0b5-4752-ab1d-8400acf2354c"
   },
   "outputs": [],
   "source": [
    "df['visit365days']=df.groupby(by = 'mrn').value_counts()"
   ]
  },
  {
   "cell_type": "code",
   "execution_count": null,
   "id": "1TCXJPjYdT6H",
   "metadata": {
    "colab": {
     "base_uri": "https://localhost:8080/",
     "height": 287
    },
    "executionInfo": {
     "elapsed": 247,
     "status": "error",
     "timestamp": 1652583297086,
     "user": {
      "displayName": "Derick Jones",
      "userId": "05040782416209808795"
     },
     "user_tz": 300
    },
    "id": "1TCXJPjYdT6H",
    "outputId": "d09dfe74-d0ab-4c81-d4f6-dd29b447110b"
   },
   "outputs": [],
   "source": [
    "df['visit365days']=df.groupby(by = 'mrn').filter(df['arrival_dt'] > df['dtstart365']).value_counts()"
   ]
  },
  {
   "cell_type": "code",
   "execution_count": null,
   "id": "cLop3doInqmq",
   "metadata": {
    "id": "cLop3doInqmq"
   },
   "outputs": [],
   "source": []
  },
  {
   "cell_type": "code",
   "execution_count": null,
   "id": "O_tWIgsUnb3L",
   "metadata": {
    "id": "O_tWIgsUnb3L"
   },
   "outputs": [],
   "source": [
    "df['mrn'].where(df['arrival_dt'] > df['dtstart365'])."
   ]
  },
  {
   "cell_type": "code",
   "execution_count": null,
   "id": "25kBaL3TnNgl",
   "metadata": {
    "colab": {
     "base_uri": "https://localhost:8080/"
    },
    "executionInfo": {
     "elapsed": 10,
     "status": "ok",
     "timestamp": 1652582840791,
     "user": {
      "displayName": "Derick Jones",
      "userId": "05040782416209808795"
     },
     "user_tz": 300
    },
    "id": "25kBaL3TnNgl",
    "outputId": "567abc3c-a03c-435c-c7fd-05660bec381b"
   },
   "outputs": [],
   "source": [
    "df.mrn.value_counts()"
   ]
  },
  {
   "cell_type": "code",
   "execution_count": null,
   "id": "dtGKkMmymlTl",
   "metadata": {
    "id": "dtGKkMmymlTl"
   },
   "outputs": [],
   "source": [
    "df['mrn'].value_counts(sort=False)."
   ]
  },
  {
   "cell_type": "code",
   "execution_count": null,
   "id": "3fafc978",
   "metadata": {
    "id": "3fafc978"
   },
   "outputs": [],
   "source": [
    "# Create new variables\n",
    "\n",
    "\n",
    "df = df.groupby(by='domain', as_index=False).agg({'ID': pd.Series.nunique})\n",
    "\n",
    "df['col1'].value_counts(sort=True)\n",
    "\n",
    "df['Account_Type].unique() \n",
    "# f I want to now for each group of A (x1, x2, x3) how many unique values there are in B which in C are greater than 2, and assign this to a new column D \n",
    "\n",
    "\n",
    "df['Visit365days']=df['mrn'].value_counts(sort=False).where(df['EDArrival']<365)\n",
    " \n",
    "df['Death30Day']= np.where(df.ED2DeathDays <31,1,0)\n",
    "    \n",
    "    df['DateandTimeofDeath-MC']-df['EDArrival']).dt.days\n",
    "\n",
    "\n",
    "\n",
    "\n",
    "\n",
    "\n",
    "\n",
    "\n",
    "\n",
    "df['D'] = df['A'].map(df[df['C']>2].groupby('A')['B'].nunique()).fillna(0)\n",
    "\n",
    "\n",
    "df['D'] = df['A'].map(df.query('C > 2').groupby('A')['B'].nunique()).fillna(0).astype(int)\n",
    "print (df)\n",
    "\n",
    "\n",
    "df['num_edenc_lastyr'] = df\n",
    "\n",
    ".stack().groupby(level=0).nunique()\n",
    "\n",
    "\n",
    "df['ED2DeathDays']=(df['DateandTimeofDeath-MC']-df['EDArrival']).dt.days\n",
    "\n",
    "df['Death30Day']= np.where(df.ED2DeathDays <31,1,0)\n",
    "\n",
    "#df['ED2Death30Days']= np.where(df.ED2DeathDays <31,1,0)\n",
    "\n",
    "\n",
    "#df['AMA'] = np.where(df['FinalEDDisposition'].str.contains('AMA'),1,0)\n",
    "\n",
    "#df['WeekBB'] = np.where(df.DaysBetweenVisitsReturnEDVisit < 8,1,0)\n",
    "\n",
    "#df['ED2Death7Days']= np.where(\n",
    "    #(df.ED2DeathDay <8) & (df.X == 0),1,0)\n",
    "\n",
    "\n",
    "\n"
   ]
  },
  {
   "cell_type": "code",
   "execution_count": null,
   "id": "9e8a704c",
   "metadata": {
    "colab": {
     "base_uri": "https://localhost:8080/"
    },
    "executionInfo": {
     "elapsed": 1266,
     "status": "ok",
     "timestamp": 1652583031124,
     "user": {
      "displayName": "Derick Jones",
      "userId": "05040782416209808795"
     },
     "user_tz": 300
    },
    "id": "9e8a704c",
    "outputId": "03661e66-098b-46df-a515-f93ebb6b66da"
   },
   "outputs": [],
   "source": [
    "# Describe Feature of Interest\n",
    "df.visit365days.describe()"
   ]
  },
  {
   "cell_type": "code",
   "execution_count": null,
   "id": "8wuG4NziGiXM",
   "metadata": {
    "colab": {
     "base_uri": "https://localhost:8080/"
    },
    "executionInfo": {
     "elapsed": 3495,
     "status": "ok",
     "timestamp": 1652581712018,
     "user": {
      "displayName": "Derick Jones",
      "userId": "05040782416209808795"
     },
     "user_tz": 300
    },
    "id": "8wuG4NziGiXM",
    "outputId": "500a7847-514c-4997-a9cb-10334e821f17"
   },
   "outputs": [],
   "source": [
    "# Making a list of all categorical variables\n",
    "cat_col = list(df.select_dtypes(\"object\").columns)\n",
    "\n",
    "# Printing count of each unique value in each categorical column\n",
    "for column in cat_col:\n",
    "    print(df[column].value_counts(normalize = False))\n",
    "    print(\"-\" * 50)"
   ]
  },
  {
   "cell_type": "code",
   "execution_count": null,
   "id": "x1Bmr_6fHs8t",
   "metadata": {
    "colab": {
     "base_uri": "https://localhost:8080/"
    },
    "executionInfo": {
     "elapsed": 3183,
     "status": "ok",
     "timestamp": 1652581690290,
     "user": {
      "displayName": "Derick Jones",
      "userId": "05040782416209808795"
     },
     "user_tz": 300
    },
    "id": "x1Bmr_6fHs8t",
    "outputId": "9ed48df0-517a-446f-fb10-a3e4e63f6313"
   },
   "outputs": [],
   "source": [
    "# Making a list of all categorical variables\n",
    "cat_col = list(df.select_dtypes(\"object\").columns)\n",
    "\n",
    "# Printing count of each unique value in each categorical column\n",
    "for column in cat_col:\n",
    "    print(df[column].value_counts(normalize = True))\n",
    "    print(\"-\" * 50)"
   ]
  },
  {
   "cell_type": "markdown",
   "id": "IdGpVhXnDAdf",
   "metadata": {
    "id": "IdGpVhXnDAdf"
   },
   "source": [
    "# Data Cleaning"
   ]
  },
  {
   "cell_type": "markdown",
   "id": "aa86e8e4",
   "metadata": {
    "id": "aa86e8e4"
   },
   "source": [
    "## **Applying Inclusion and Exclusion Criteria**"
   ]
  },
  {
   "cell_type": "markdown",
   "id": "a8dc73c1",
   "metadata": {
    "id": "a8dc73c1"
   },
   "source": [
    "### **Inclusion Criteria**"
   ]
  },
  {
   "cell_type": "code",
   "execution_count": null,
   "id": "eb1d43ac",
   "metadata": {
    "id": "eb1d43ac"
   },
   "outputs": [],
   "source": [
    "# Only Keep Rows that Have These Strings\n",
    "\n",
    "df = df[df.ed_disposition.isin(['Discharge'])]\n",
    "# drop the column\n",
    "df = df.drop(['ed_disposition'], axis = 1)\n",
    "\n",
    "\n",
    "df = df[df.ed_region.isin(['MCHS SE MN'])]\n",
    "#drop the column\n",
    "df = df.drop(['ed_region'], axis = 1)\n",
    "\n",
    "\n",
    "\n",
    "\n",
    "#df = df[df['FinalEDDisposition'] == 1]\n",
    "\n",
    "#df.loc[df['FinalEDDisposition_Discharge'] == 1]\n",
    "\n",
    "\n",
    "#df = df.drop(df['FinalEDDisposition_Discharge'] == 1, axis=0)"
   ]
  },
  {
   "cell_type": "markdown",
   "id": "5509f7ba",
   "metadata": {
    "id": "5509f7ba"
   },
   "source": [
    "### **Exclusion Criteria**"
   ]
  },
  {
   "cell_type": "code",
   "execution_count": null,
   "id": "35e0b60a",
   "metadata": {
    "id": "35e0b60a"
   },
   "outputs": [],
   "source": [
    "# Drop rows that contain these strings\n",
    "#df = df[~df.ED.str.contains(\"return\") == True]\n",
    "df = df[~df.ed.str.contains(\"MCHS OWOD ED\") == True]\n",
    "df = df.drop(df[df.age < 18].index)"
   ]
  },
  {
   "cell_type": "markdown",
   "id": "2cba23c7",
   "metadata": {
    "id": "2cba23c7"
   },
   "source": [
    "## Dropping Variables"
   ]
  },
  {
   "cell_type": "code",
   "execution_count": null,
   "id": "64ad2421",
   "metadata": {
    "id": "64ad2421"
   },
   "outputs": [],
   "source": [
    "# Dropping the columns that are roughly unique patient identifiers. \n",
    "df = df.drop(['csn'], axis = 1)\n",
    "df = df.drop(['mrn'], axis = 1)"
   ]
  },
  {
   "cell_type": "code",
   "execution_count": null,
   "id": "bd0cf482",
   "metadata": {
    "colab": {
     "base_uri": "https://localhost:8080/"
    },
    "executionInfo": {
     "elapsed": 469,
     "status": "ok",
     "timestamp": 1652427226830,
     "user": {
      "displayName": "Derick Jones",
      "userId": "05040782416209808795"
     },
     "user_tz": 300
    },
    "id": "bd0cf482",
    "outputId": "5d752acc-f23e-4928-8985-9400cc9fce73"
   },
   "outputs": [],
   "source": [
    "# Checking the number of unique values in each column\n",
    "df.nunique()"
   ]
  },
  {
   "cell_type": "code",
   "execution_count": null,
   "id": "2fb00e8c",
   "metadata": {
    "id": "2fb00e8c"
   },
   "outputs": [],
   "source": [
    "#Dropping Variables that Only Have 1 or 0 Values\n",
    "#df = df.drop([ 'PreferredCareLanguage', 'Unnamed:38'], axis = 1)"
   ]
  },
  {
   "cell_type": "code",
   "execution_count": null,
   "id": "c9e6e024",
   "metadata": {
    "id": "c9e6e024"
   },
   "outputs": [],
   "source": [
    "# Dropping Variables that are in the definition of the outcome\n",
    "df = df.drop([ 'return_3day'], axis = 1)"
   ]
  },
  {
   "cell_type": "code",
   "execution_count": null,
   "id": "c34c99aa",
   "metadata": {
    "id": "c34c99aa"
   },
   "outputs": [],
   "source": [
    "# Dropping Variables that  are in the future with respect to the outcome. \n",
    "df = df.drop(['csn_return'], axis = 1)\n",
    "df = df.drop(['ed_return'], axis = 1)\n",
    "df = df.drop(['return_ed_match'], axis = 1)\n",
    "df = df.drop(['hours_to_return'], axis = 1)\n",
    "df = df.drop(['esi_return'], axis = 1)\n",
    "df = df.drop(['cc_cat_return'], axis = 1)\n",
    "df = df.drop(['chief_complaint_return'], axis = 1)\n",
    "df = df.drop(['primary_dx_return'], axis = 1)\n",
    "df = df.drop(['disposition_return'], axis = 1)\n",
    "df = df.drop(['dispo_return_cat'], axis = 1)\n"
   ]
  },
  {
   "cell_type": "code",
   "execution_count": null,
   "id": "ggWnJEr4BynG",
   "metadata": {
    "id": "ggWnJEr4BynG"
   },
   "outputs": [],
   "source": [
    "#drop variables with high degree is missingness\n",
    "#df = df.drop(['YearsofEducation'], axis = 1)\n"
   ]
  },
  {
   "cell_type": "code",
   "execution_count": null,
   "id": "-RuJk55nsWjq",
   "metadata": {
    "colab": {
     "base_uri": "https://localhost:8080/"
    },
    "executionInfo": {
     "elapsed": 234,
     "status": "ok",
     "timestamp": 1652581670645,
     "user": {
      "displayName": "Derick Jones",
      "userId": "05040782416209808795"
     },
     "user_tz": 300
    },
    "id": "-RuJk55nsWjq",
    "outputId": "66316e67-8ef5-423e-fe9b-c44d12397e3b"
   },
   "outputs": [],
   "source": [
    "# Making a list of all datetime variables\n",
    "datetime_col = list(df.select_dtypes(\"datetime64\").columns)\n",
    "\n",
    "# Printing count of each unique value in each categorical column\n",
    "for column in datetime_col:\n",
    "    print(df[column].value_counts(normalize = True))\n",
    "    print(\"-\" * 50)"
   ]
  },
  {
   "cell_type": "code",
   "execution_count": null,
   "id": "b8f5c7e9",
   "metadata": {
    "id": "b8f5c7e9"
   },
   "outputs": [],
   "source": [
    "# Date Variables to Drop\n",
    "df = df.drop(['arrival_dt'], axis = 1)\n",
    "df = df.drop(['death_dttm'], axis = 1)\n",
    "df = df.drop(['EDArrivalPreviousEDVisit'], axis = 1)\n"
   ]
  },
  {
   "cell_type": "markdown",
   "id": "6d7e7e1a",
   "metadata": {
    "id": "6d7e7e1a"
   },
   "source": [
    "## Treating Duplicates "
   ]
  },
  {
   "cell_type": "code",
   "execution_count": null,
   "id": "07578342",
   "metadata": {
    "colab": {
     "base_uri": "https://localhost:8080/",
     "height": 143
    },
    "executionInfo": {
     "elapsed": 237,
     "status": "ok",
     "timestamp": 1652427247417,
     "user": {
      "displayName": "Derick Jones",
      "userId": "05040782416209808795"
     },
     "user_tz": 300
    },
    "id": "07578342",
    "outputId": "9c2c575f-6dcc-44de-d2f6-d8f5d5a87295"
   },
   "outputs": [],
   "source": [
    "# Check for duplicates\n",
    "df[df.duplicated()]"
   ]
  },
  {
   "cell_type": "code",
   "execution_count": null,
   "id": "93f9e0f4",
   "metadata": {
    "colab": {
     "base_uri": "https://localhost:8080/"
    },
    "executionInfo": {
     "elapsed": 497,
     "status": "ok",
     "timestamp": 1652283140274,
     "user": {
      "displayName": "Derick Jones",
      "userId": "05040782416209808795"
     },
     "user_tz": 300
    },
    "id": "93f9e0f4",
    "outputId": "3d048319-8115-44f9-c078-cb76e44a11d4"
   },
   "outputs": [],
   "source": [
    "df.duplicated().sum()"
   ]
  },
  {
   "cell_type": "code",
   "execution_count": null,
   "id": "4fcb5f90",
   "metadata": {
    "id": "4fcb5f90"
   },
   "outputs": [],
   "source": [
    "# drop duplicates\n",
    "\n",
    "df = df.drop_duplicates()"
   ]
  },
  {
   "cell_type": "markdown",
   "id": "bhxHmgtfDim_",
   "metadata": {
    "id": "bhxHmgtfDim_"
   },
   "source": [
    "## Imputations for missing data"
   ]
  },
  {
   "cell_type": "code",
   "execution_count": null,
   "id": "eb78ef5b",
   "metadata": {
    "colab": {
     "base_uri": "https://localhost:8080/"
    },
    "executionInfo": {
     "elapsed": 226,
     "status": "ok",
     "timestamp": 1652238991668,
     "user": {
      "displayName": "Derick Jones",
      "userId": "05040782416209808795"
     },
     "user_tz": 300
    },
    "id": "eb78ef5b",
    "outputId": "f1f87c36-cfef-4890-afb2-494ee57d1f51"
   },
   "outputs": [],
   "source": [
    "# Check Missing Values\n",
    "df.isna().sum()"
   ]
  },
  {
   "cell_type": "code",
   "execution_count": null,
   "id": "065e5659",
   "metadata": {
    "colab": {
     "base_uri": "https://localhost:8080/"
    },
    "executionInfo": {
     "elapsed": 242,
     "status": "ok",
     "timestamp": 1652238994905,
     "user": {
      "displayName": "Derick Jones",
      "userId": "05040782416209808795"
     },
     "user_tz": 300
    },
    "id": "065e5659",
    "outputId": "b7988606-1b8b-40db-aeea-edce5922f3ab"
   },
   "outputs": [],
   "source": [
    "# % Missing Values\n",
    "\n",
    "(df.isnull().sum() / df.shape[0])*100"
   ]
  },
  {
   "cell_type": "code",
   "execution_count": null,
   "id": "36160e0a",
   "metadata": {
    "colab": {
     "base_uri": "https://localhost:8080/"
    },
    "executionInfo": {
     "elapsed": 236,
     "status": "ok",
     "timestamp": 1652238998416,
     "user": {
      "displayName": "Derick Jones",
      "userId": "05040782416209808795"
     },
     "user_tz": 300
    },
    "id": "36160e0a",
    "outputId": "e2a8d864-aaaf-4b39-dc43-717358c52255"
   },
   "outputs": [],
   "source": [
    "#Missing Categoricals\n",
    "\n",
    "missingcategoricals = df.columns[df.dtypes == \"object\"].isna().sum()\n",
    "missingcategoricals"
   ]
  },
  {
   "cell_type": "code",
   "execution_count": null,
   "id": "8c5cfbbd",
   "metadata": {
    "colab": {
     "base_uri": "https://localhost:8080/"
    },
    "executionInfo": {
     "elapsed": 252,
     "status": "ok",
     "timestamp": 1652239005360,
     "user": {
      "displayName": "Derick Jones",
      "userId": "05040782416209808795"
     },
     "user_tz": 300
    },
    "id": "8c5cfbbd",
    "outputId": "92259495-b0b7-4a40-a5d8-f12de51f11b4"
   },
   "outputs": [],
   "source": [
    "# Missing Numerics\n",
    "missingnumerics =df.select_dtypes(include=np.number).isna().sum()\n",
    "missingnumerics\n"
   ]
  },
  {
   "cell_type": "markdown",
   "id": "51925826",
   "metadata": {
    "id": "51925826"
   },
   "source": [
    "## **Collapsing Categoricals and Assigning Dummies**"
   ]
  },
  {
   "cell_type": "code",
   "execution_count": null,
   "id": "11c6c653",
   "metadata": {
    "id": "11c6c653"
   },
   "outputs": [],
   "source": [
    "# Collapsing Columns, The number is the percentage to group.\n",
    "cat_col= df.columns[df.dtypes == \"object\"]\n",
    "for feature in cat_col:\n",
    "  df[feature] = df[feature].mask(df[feature].map(df[feature].value_counts(normalize=True)) < 0.0001, 'Other')"
   ]
  },
  {
   "cell_type": "code",
   "execution_count": null,
   "id": "cfd94346",
   "metadata": {},
   "outputs": [],
   "source": [
    "# Dummies for Strings\n",
    "one_hot = df['Chronic_Condition_Registry_Names'].str.get_dummies(sep=',').add_prefix('CD_')\n",
    "# Drop column as it is now encoded\n",
    "df = df.drop('Chronic_Condition_Registry_Names',axis = 1)\n",
    "# Join the encoded df\n",
    "df = df.join(one_hot)\n",
    "df.head()"
   ]
  },
  {
   "cell_type": "code",
   "execution_count": null,
   "id": "cf3ed837",
   "metadata": {},
   "outputs": [],
   "source": [
    "# Creating Dummies for columns with strings\n",
    "from sklearn.preprocessing import MultiLabelBinarizer\n",
    "mlb = MultiLabelBinarizer()\n",
    "pd.DataFrame(mlb.fit_transform(df.Active_Mental_Health_Problem_List_Icd_Name.str.split(',')),columns=mlb.classes_,index=df.index).reset_index()"
   ]
  },
  {
   "cell_type": "code",
   "execution_count": null,
   "id": "76c63f05",
   "metadata": {
    "id": "76c63f05"
   },
   "outputs": [],
   "source": [
    "# Creating dummy variables for the categorical variables\n",
    "df = pd.get_dummies(df, drop_first = True)"
   ]
  },
  {
   "cell_type": "code",
   "execution_count": null,
   "id": "dtsnyqFOT9i6",
   "metadata": {
    "id": "dtsnyqFOT9i6"
   },
   "outputs": [],
   "source": [
    "#To insert the median value of each column into its missing rows:\n",
    "\n",
    "df.fillna(df.median().round(1), inplace=True)"
   ]
  },
  {
   "cell_type": "code",
   "execution_count": null,
   "id": "Ri5IfPdFeU-e",
   "metadata": {
    "colab": {
     "base_uri": "https://localhost:8080/"
    },
    "executionInfo": {
     "elapsed": 243,
     "status": "ok",
     "timestamp": 1652239075822,
     "user": {
      "displayName": "Derick Jones",
      "userId": "05040782416209808795"
     },
     "user_tz": 300
    },
    "id": "Ri5IfPdFeU-e",
    "outputId": "b5b9d041-e2df-4c66-e1d1-d03d656214dc"
   },
   "outputs": [],
   "source": [
    "# Check Missing Values\n",
    "df.isna().sum()"
   ]
  },
  {
   "cell_type": "code",
   "execution_count": null,
   "id": "Jzo1MMEygLrO",
   "metadata": {
    "id": "Jzo1MMEygLrO"
   },
   "outputs": [],
   "source": [
    "# Drop Anything Missing After Imputations\n",
    "df = df.drop(['time_to_admit'], axis = 1)"
   ]
  },
  {
   "cell_type": "markdown",
   "id": "e73fc2e9",
   "metadata": {
    "id": "e73fc2e9"
   },
   "source": [
    "# **Exploratory Data Analysis**"
   ]
  },
  {
   "cell_type": "code",
   "execution_count": null,
   "id": "1ef55a8e",
   "metadata": {
    "colab": {
     "base_uri": "https://localhost:8080/"
    },
    "executionInfo": {
     "elapsed": 348,
     "status": "ok",
     "timestamp": 1651781660515,
     "user": {
      "displayName": "Derick Jones",
      "userId": "05040782416209808795"
     },
     "user_tz": 300
    },
    "id": "1ef55a8e",
    "outputId": "5e93c9aa-f724-4cdc-fce4-3c2f4ccc9316"
   },
   "outputs": [],
   "source": [
    "df.shape"
   ]
  },
  {
   "cell_type": "code",
   "execution_count": null,
   "id": "c3dac104",
   "metadata": {
    "colab": {
     "base_uri": "https://localhost:8080/",
     "height": 317
    },
    "executionInfo": {
     "elapsed": 337,
     "status": "ok",
     "timestamp": 1651781663620,
     "user": {
      "displayName": "Derick Jones",
      "userId": "05040782416209808795"
     },
     "user_tz": 300
    },
    "id": "c3dac104",
    "outputId": "19d87486-4e92-4edc-bce4-ec88973e4534"
   },
   "outputs": [],
   "source": [
    "df.head()"
   ]
  },
  {
   "cell_type": "code",
   "execution_count": null,
   "id": "38ce0354",
   "metadata": {
    "colab": {
     "base_uri": "https://localhost:8080/",
     "height": 488
    },
    "executionInfo": {
     "elapsed": 67970,
     "status": "ok",
     "timestamp": 1651705474157,
     "user": {
      "displayName": "Derick Jones",
      "userId": "05040782416209808795"
     },
     "user_tz": 300
    },
    "id": "38ce0354",
    "outputId": "07a58ba4-3e54-4dbf-ef9a-e61037429bdb",
    "scrolled": false
   },
   "outputs": [],
   "source": [
    "# Statistical Summary of Numerical Variables in the data\n",
    "\n",
    "df.describe().T\n"
   ]
  },
  {
   "cell_type": "markdown",
   "id": "470d0ba8",
   "metadata": {
    "id": "470d0ba8"
   },
   "source": [
    "### **Univariate analysis**"
   ]
  },
  {
   "cell_type": "code",
   "execution_count": null,
   "id": "417290c7",
   "metadata": {
    "id": "417290c7"
   },
   "outputs": [],
   "source": [
    "# Making a list of all categorical variables\n",
    "cat_col = list(df.select_dtypes(\"object\").columns)\n",
    "\n",
    "# Printing count of each unique value in each categorical column\n",
    "for column in cat_col:\n",
    "    print(df[column].value_counts(normalize = True))\n",
    "    print(\"-\" * 50)"
   ]
  },
  {
   "cell_type": "code",
   "execution_count": null,
   "id": "3c337211",
   "metadata": {
    "id": "3c337211"
   },
   "outputs": [],
   "source": [
    "# Checking the number of unique values\n",
    "df[\"ID\"].nunique()"
   ]
  },
  {
   "cell_type": "code",
   "execution_count": null,
   "id": "052f7c59",
   "metadata": {
    "id": "052f7c59"
   },
   "outputs": [],
   "source": [
    "# Dropping ID column\n",
    "data.drop([\"ID\"], axis = 1, inplace = True)"
   ]
  },
  {
   "cell_type": "code",
   "execution_count": null,
   "id": "ef1c19db",
   "metadata": {
    "id": "ef1c19db"
   },
   "outputs": [],
   "source": [
    "# Checking the Outcome of Interest\n",
    "\n",
    "plt.figure(figsize = (10, 6))\n",
    "\n",
    "ax = sns.countplot(x = 'Death7Day', data = df)\n",
    "\n",
    "# Annotating the exact count on the top of the bar for each category \n",
    "for p in ax.patches:\n",
    "    ax.annotate('{:.1f}'.format(p.get_height()), (p.get_x(), p.get_height()+0.35))"
   ]
  },
  {
   "cell_type": "code",
   "execution_count": null,
   "id": "6cde7307",
   "metadata": {
    "id": "6cde7307"
   },
   "outputs": [],
   "source": [
    "# Make a list of all Numeric Variables\n",
    "\n",
    "num_cols = df.select_dtypes(include=np.number).columns.tolist()\n",
    "\n",
    "num_cols"
   ]
  },
  {
   "cell_type": "code",
   "execution_count": null,
   "id": "112def1f",
   "metadata": {
    "id": "112def1f"
   },
   "outputs": [],
   "source": [
    "# Histogram and Bar Graphs for Continous Variables. \n",
    "\n",
    "for col in ['age', 'website_visits', 'time_spent_on_website', 'page_views_per_visit']:\n",
    "    print(col)\n",
    "    \n",
    "    print('Skew :',round(data[col].skew(), 2))\n",
    "    \n",
    "    plt.figure(figsize = (15, 4))\n",
    "    \n",
    "    plt.subplot(1, 2, 1)\n",
    "    \n",
    "    data[col].hist(bins = 10, grid = False)\n",
    "    \n",
    "    plt.ylabel('count')\n",
    "    \n",
    "    plt.subplot(1, 2, 2)\n",
    "    \n",
    "    sns.boxplot(x = data[col])\n",
    "    \n",
    "    plt.show()"
   ]
  },
  {
   "cell_type": "markdown",
   "id": "cade34ac",
   "metadata": {
    "id": "cade34ac"
   },
   "source": [
    "### **Bivariate Analysis**"
   ]
  },
  {
   "cell_type": "code",
   "execution_count": null,
   "id": "6cf0754c",
   "metadata": {
    "id": "6cf0754c"
   },
   "outputs": [],
   "source": [
    "#Making a list of all categorical variables \n",
    "\n",
    "cat_cols = df.columns[df.dtypes == \"object\"]\n",
    "\n",
    "cat_cols\n"
   ]
  },
  {
   "cell_type": "code",
   "execution_count": null,
   "id": "a2d6a5d1",
   "metadata": {
    "id": "a2d6a5d1"
   },
   "outputs": [],
   "source": [
    "# Listing Categories Of Categorical variables \n",
    "cat_col= df.columns[df.dtypes == \"object\"]\n",
    "num_col =df.select_dtypes(include=np.number)\n",
    "\n",
    "#Printing  count of each unique value in each column\n",
    "for column in cat_col:\n",
    "    print (column)\n",
    "    print(df[column].nunique())\n",
    "    print(df[column].value_counts())\n",
    "    print('-'*50)"
   ]
  },
  {
   "cell_type": "code",
   "execution_count": null,
   "id": "8df8ef5a",
   "metadata": {
    "id": "8df8ef5a"
   },
   "outputs": [],
   "source": [
    "# Plot Specific Categoricals by outcome of interest\n",
    "\n",
    "plt.figure(figsize = (10, 6))\n",
    "\n",
    "sns.countplot(x = 'current_occupation', hue = 'status', data = data)\n",
    "\n",
    "plt.show()"
   ]
  },
  {
   "cell_type": "code",
   "execution_count": null,
   "id": "a94733c9",
   "metadata": {
    "id": "a94733c9"
   },
   "outputs": [],
   "source": [
    "data.groupby([\"current_occupation\"])[\"age\"].describe()"
   ]
  },
  {
   "cell_type": "code",
   "execution_count": null,
   "id": "b79efcc6",
   "metadata": {
    "id": "b79efcc6"
   },
   "outputs": [],
   "source": [
    "# Boxplot of Categorical Variable on X and Continuous on Y\n",
    "\n",
    "plt.figure(figsize = (10, 5))\n",
    "\n",
    "sns.boxplot(data[\"current_occupation\"], data[\"age\"])\n",
    "\n",
    "plt.show()"
   ]
  },
  {
   "cell_type": "markdown",
   "id": "b7fad98f",
   "metadata": {
    "id": "b7fad98f"
   },
   "source": [
    "**Pairwise correlations between all the numerical variables.**"
   ]
  },
  {
   "cell_type": "code",
   "execution_count": null,
   "id": "62f99651",
   "metadata": {
    "id": "62f99651"
   },
   "outputs": [],
   "source": [
    "plt.figure(figsize = (12, 7))\n",
    "\n",
    "sns.heatmap(df.corr(), annot = True, fmt = \".2f\")\n",
    "\n",
    "plt.show()"
   ]
  },
  {
   "cell_type": "code",
   "execution_count": null,
   "id": "0b68b490",
   "metadata": {
    "id": "0b68b490"
   },
   "outputs": [],
   "source": []
  },
  {
   "cell_type": "code",
   "execution_count": null,
   "id": "014d142d",
   "metadata": {
    "id": "014d142d"
   },
   "outputs": [],
   "source": []
  },
  {
   "cell_type": "code",
   "execution_count": null,
   "id": "06daaf91",
   "metadata": {
    "id": "06daaf91"
   },
   "outputs": [],
   "source": []
  },
  {
   "cell_type": "code",
   "execution_count": null,
   "id": "8a0e0239",
   "metadata": {
    "id": "8a0e0239"
   },
   "outputs": [],
   "source": [
    "# Histogram of Numeric Variables\n",
    "#num_col =df.select_dtypes(include=np.number)\n",
    "\n",
    "df.hist(figsize = (14, 14))\n",
    "\n",
    "plt.show()"
   ]
  },
  {
   "cell_type": "code",
   "execution_count": null,
   "id": "9644a753",
   "metadata": {
    "id": "9644a753"
   },
   "outputs": [],
   "source": [
    "# Univariate Analysis for Categorical Variables\n",
    "\n",
    "for i in df.columns[1:]:\n",
    "    print(df[i].value_counts(normalize = True))\n",
    "    \n",
    "    print('*' * 40)"
   ]
  },
  {
   "cell_type": "code",
   "execution_count": null,
   "id": "f957eb05",
   "metadata": {
    "id": "f957eb05"
   },
   "outputs": [],
   "source": [
    "# Analyze How Outcome Variable is Affected by the Categorical Variables\n",
    "\n",
    "for i in df.columns[1:]:\n",
    "    if i != 'ED2Death30Days':\n",
    "        (pd.crosstab(df[i], df['ED2Death30Days'], normalize = 'index')*100).plot(kind = 'bar', figsize = (8, 4), stacked = True)\n",
    "        plt.ylabel('ED2Death30Days %')"
   ]
  },
  {
   "cell_type": "code",
   "execution_count": null,
   "id": "09c81820",
   "metadata": {
    "id": "09c81820"
   },
   "outputs": [],
   "source": [
    "# Check the Relationship Between the outcome variable and the numerical variables. \n",
    "\n",
    "df.groupby(['ED2Death30Days'])[num_cols].mean()"
   ]
  },
  {
   "cell_type": "code",
   "execution_count": null,
   "id": "428590c8",
   "metadata": {
    "id": "428590c8"
   },
   "outputs": [],
   "source": [
    "# Plotting the correlation between numerical variables\n",
    "plt.figure(figsize = (15, 8))\n",
    "\n",
    "sns.heatmap(df[num_cols].corr(), annot = True, fmt = '0.0f', cmap = 'YlGnBu');"
   ]
  },
  {
   "cell_type": "code",
   "execution_count": null,
   "id": "88e867c2",
   "metadata": {
    "id": "88e867c2"
   },
   "outputs": [],
   "source": [
    "# Univariate Analysis for Categorical Variables.\n",
    "\n",
    "# Printing the % sub categories of each category.\n",
    "for i in cat_cols:\n",
    "    \n",
    "    print(df[i].value_counts(normalize = True))\n",
    "    \n",
    "    print('*' * 40)"
   ]
  },
  {
   "cell_type": "code",
   "execution_count": null,
   "id": "01b70d19",
   "metadata": {
    "id": "01b70d19"
   },
   "outputs": [],
   "source": [
    "df.columns[1:]"
   ]
  },
  {
   "cell_type": "code",
   "execution_count": null,
   "id": "b4d3a4d0",
   "metadata": {
    "id": "b4d3a4d0"
   },
   "outputs": [],
   "source": [
    "# Analyze How Outcome Variable is Affected by the Categorical Variables\n",
    "\n",
    "for i in cat_cols:\n",
    "    if i != 'Attrition':\n",
    "        (pd.crosstab(df[i], df['Attrition'], normalize = 'index')*100).plot(kind = 'bar', figsize = (8, 4), stacked = True)\n",
    "        plt.ylabel('Percentage Attrition %')"
   ]
  },
  {
   "cell_type": "code",
   "execution_count": null,
   "id": "73d6f832",
   "metadata": {
    "id": "73d6f832"
   },
   "outputs": [],
   "source": [
    "for col in df.columns[1:]:\n",
    "    print(col)\n",
    "    \n",
    "    print('Skew :', round(df[col].skew(), 2))\n",
    "    \n",
    "    plt.figure(figsize = (15, 4))\n",
    "    \n",
    "    plt.subplot(1, 2, 1)\n",
    "    \n",
    "    \n",
    "    df[col].hist(bins = 20, grid = False)\n",
    "    \n",
    "    plt.ylabel('count')\n",
    "    \n",
    "    plt.subplot(1, 2, 2)\n",
    "    \n",
    "    sns.boxplot(x = df[col])\n",
    "    \n",
    "    plt.show()\n",
    "    "
   ]
  },
  {
   "cell_type": "code",
   "execution_count": null,
   "id": "a8e9d46f",
   "metadata": {
    "id": "a8e9d46f"
   },
   "outputs": [],
   "source": [
    "plt.figure(figsize = (12, 7))\n",
    "\n",
    "sns.heatmap(df.corr(), annot = False, fmt = \".0f\")\n",
    "\n",
    "plt.show()"
   ]
  },
  {
   "cell_type": "code",
   "execution_count": null,
   "id": "7a35cf0f",
   "metadata": {
    "id": "7a35cf0f"
   },
   "outputs": [],
   "source": []
  },
  {
   "cell_type": "code",
   "execution_count": null,
   "id": "a5475317",
   "metadata": {
    "id": "a5475317"
   },
   "outputs": [],
   "source": []
  },
  {
   "cell_type": "code",
   "execution_count": null,
   "id": "a3056a02",
   "metadata": {
    "id": "a3056a02"
   },
   "outputs": [],
   "source": []
  },
  {
   "cell_type": "code",
   "execution_count": null,
   "id": "3aa3d314",
   "metadata": {
    "id": "3aa3d314"
   },
   "outputs": [],
   "source": []
  },
  {
   "cell_type": "code",
   "execution_count": null,
   "id": "93b207c1",
   "metadata": {
    "id": "93b207c1"
   },
   "outputs": [],
   "source": []
  },
  {
   "cell_type": "code",
   "execution_count": null,
   "id": "1630af10",
   "metadata": {
    "id": "1630af10"
   },
   "outputs": [],
   "source": []
  },
  {
   "cell_type": "code",
   "execution_count": null,
   "id": "52c3e750",
   "metadata": {
    "id": "52c3e750"
   },
   "outputs": [],
   "source": []
  },
  {
   "cell_type": "code",
   "execution_count": null,
   "id": "4b4eae20",
   "metadata": {
    "id": "4b4eae20"
   },
   "outputs": [],
   "source": []
  },
  {
   "cell_type": "code",
   "execution_count": null,
   "id": "271d07a8",
   "metadata": {
    "id": "271d07a8"
   },
   "outputs": [],
   "source": []
  },
  {
   "cell_type": "code",
   "execution_count": null,
   "id": "d0cae39c",
   "metadata": {
    "id": "d0cae39c"
   },
   "outputs": [],
   "source": []
  },
  {
   "cell_type": "code",
   "execution_count": null,
   "id": "b4ba8293",
   "metadata": {
    "id": "b4ba8293"
   },
   "outputs": [],
   "source": []
  },
  {
   "cell_type": "markdown",
   "id": "2dce7107",
   "metadata": {
    "id": "2dce7107"
   },
   "source": [
    "# **Principal Component Analysis**"
   ]
  },
  {
   "cell_type": "markdown",
   "id": "01bdfbbd",
   "metadata": {
    "id": "01bdfbbd"
   },
   "source": [
    "### **Scaling the data**\n"
   ]
  },
  {
   "cell_type": "code",
   "execution_count": null,
   "id": "0ef083da",
   "metadata": {
    "id": "0ef083da"
   },
   "outputs": [],
   "source": [
    "scaler = StandardScaler()\n",
    "data_scaled = pd.DataFrame(scaler.fit_transform(df), columns = df.columns)"
   ]
  },
  {
   "cell_type": "code",
   "execution_count": null,
   "id": "ddd04a86",
   "metadata": {
    "id": "ddd04a86"
   },
   "outputs": [],
   "source": [
    "# Defining the number of principal components to generate\n",
    "n = data_scaled.shape[1]\n",
    "\n",
    "# Finding principal components for the data\n",
    "pca = PCA(n_components = n, random_state = 1)\n",
    "\n",
    "data_pca1 = pd.DataFrame(pca.fit_transform(data_scaled))\n",
    "\n",
    "# The percentage of variance explained by each principal component\n",
    "exp_var = pca.explained_variance_ratio_"
   ]
  },
  {
   "cell_type": "code",
   "execution_count": null,
   "id": "P_1udUzMRFaX",
   "metadata": {
    "colab": {
     "base_uri": "https://localhost:8080/"
    },
    "executionInfo": {
     "elapsed": 531,
     "status": "ok",
     "timestamp": 1652241493813,
     "user": {
      "displayName": "Derick Jones",
      "userId": "05040782416209808795"
     },
     "user_tz": 300
    },
    "id": "P_1udUzMRFaX",
    "outputId": "1e9835f6-d35a-42d2-933b-884ce10eb0e5"
   },
   "outputs": [],
   "source": [
    "df.shape"
   ]
  },
  {
   "cell_type": "code",
   "execution_count": null,
   "id": "e2a5fe06",
   "metadata": {
    "colab": {
     "base_uri": "https://localhost:8080/",
     "height": 621
    },
    "executionInfo": {
     "elapsed": 541,
     "status": "ok",
     "timestamp": 1652241505572,
     "user": {
      "displayName": "Derick Jones",
      "userId": "05040782416209808795"
     },
     "user_tz": 300
    },
    "id": "e2a5fe06",
    "outputId": "04979326-3159-46f8-fd6b-91ebd267a6b6"
   },
   "outputs": [],
   "source": [
    "# Plotting the explained cumulative variance by principal components\n",
    "plt.figure(figsize = (10, 10))\n",
    "\n",
    "plt.plot(range(1, 3112), pca.explained_variance_ratio_.cumsum(), marker = 'o', linestyle = '--')\n",
    "\n",
    "plt.title(\"Explained Variances by Components\")\n",
    "\n",
    "plt.xlabel(\"Number of Components\")\n",
    "\n",
    "plt.ylabel(\"Cumulative Explained Variance\")\n",
    "\n",
    "plt.show()"
   ]
  },
  {
   "cell_type": "code",
   "execution_count": null,
   "id": "b949acb7",
   "metadata": {
    "colab": {
     "base_uri": "https://localhost:8080/"
    },
    "executionInfo": {
     "elapsed": 212,
     "status": "ok",
     "timestamp": 1652241510574,
     "user": {
      "displayName": "Derick Jones",
      "userId": "05040782416209808795"
     },
     "user_tz": 300
    },
    "id": "b949acb7",
    "outputId": "4b5caff6-d04d-4248-d0cf-b9e624c0f251"
   },
   "outputs": [],
   "source": [
    "# Finding the least number of components that can explain more than 90% variance\n",
    "sum = 0\n",
    "\n",
    "for ix, i in enumerate(exp_var):\n",
    "    sum = sum + i\n",
    "    if(sum>0.90):\n",
    "        print(\"Number of PCs that explain at least 90% variance: \", ix + 1)\n",
    "        break"
   ]
  },
  {
   "cell_type": "code",
   "execution_count": null,
   "id": "c7717872",
   "metadata": {
    "colab": {
     "base_uri": "https://localhost:8080/",
     "height": 424
    },
    "executionInfo": {
     "elapsed": 237,
     "status": "ok",
     "timestamp": 1652241513822,
     "user": {
      "displayName": "Derick Jones",
      "userId": "05040782416209808795"
     },
     "user_tz": 300
    },
    "id": "c7717872",
    "outputId": "3b5d3534-8c52-4f44-e353-1e549da2b936"
   },
   "outputs": [],
   "source": [
    "pc_comps = ['PC1', 'PC2', 'PC3', 'PC4', 'PC5' ]\n",
    "\n",
    "data_pca = pd.DataFrame(np.round(pca.components_[:5,:], 2), index = pc_comps, columns = data_scaled.columns)\n",
    "\n",
    "data_pca.T"
   ]
  },
  {
   "cell_type": "code",
   "execution_count": null,
   "id": "2ea01fe8",
   "metadata": {
    "colab": {
     "base_uri": "https://localhost:8080/",
     "height": 1000
    },
    "executionInfo": {
     "elapsed": 1224,
     "status": "ok",
     "timestamp": 1652241518165,
     "user": {
      "displayName": "Derick Jones",
      "userId": "05040782416209808795"
     },
     "user_tz": 300
    },
    "id": "2ea01fe8",
    "outputId": "90f4f5de-c49e-43f3-bc7c-ee5651b18e86"
   },
   "outputs": [],
   "source": [
    "def color_high(val):\n",
    "    if val <= -0.20:\n",
    "        return 'background: pink'\n",
    "    \n",
    "    elif val >= 0.20:\n",
    "        return 'background: skyblue'   \n",
    "    \n",
    "data_pca.T.style.applymap(color_high)"
   ]
  },
  {
   "cell_type": "code",
   "execution_count": null,
   "id": "91f0c8f9",
   "metadata": {
    "colab": {
     "base_uri": "https://localhost:8080/",
     "height": 317
    },
    "executionInfo": {
     "elapsed": 1411,
     "status": "ok",
     "timestamp": 1652241663922,
     "user": {
      "displayName": "Derick Jones",
      "userId": "05040782416209808795"
     },
     "user_tz": 300
    },
    "id": "91f0c8f9",
    "outputId": "62f3b9ed-0cd9-4cbc-f69b-972cd47f5cd5"
   },
   "outputs": [],
   "source": [
    "df_concat = pd.concat([data_pca1, df], axis = 1)\n",
    "df_concat.head()"
   ]
  },
  {
   "cell_type": "code",
   "execution_count": null,
   "id": "61c0e0d1",
   "metadata": {
    "colab": {
     "base_uri": "https://localhost:8080/",
     "height": 442
    },
    "executionInfo": {
     "elapsed": 836,
     "status": "ok",
     "timestamp": 1652241667640,
     "user": {
      "displayName": "Derick Jones",
      "userId": "05040782416209808795"
     },
     "user_tz": 300
    },
    "id": "61c0e0d1",
    "outputId": "f90cfc5d-1a38-4409-9968-dd4fef11b9b9"
   },
   "outputs": [],
   "source": [
    "plt.figure(figsize = (7, 7))\n",
    "\n",
    "sns.scatterplot(data = data_pca1, x = data_pca1[0], y = data_pca1[1])\n",
    "\n",
    "plt.xlabel(\"PC1\")\n",
    "\n",
    "plt.ylabel(\"PC2\")\n",
    "\n",
    "plt.show()"
   ]
  },
  {
   "cell_type": "code",
   "execution_count": null,
   "id": "8a54908b",
   "metadata": {
    "colab": {
     "base_uri": "https://localhost:8080/",
     "height": 445
    },
    "executionInfo": {
     "elapsed": 820,
     "status": "ok",
     "timestamp": 1652241697683,
     "user": {
      "displayName": "Derick Jones",
      "userId": "05040782416209808795"
     },
     "user_tz": 300
    },
    "id": "8a54908b",
    "outputId": "71d55930-79ed-4f3e-c6b1-e633b30e5771",
    "scrolled": true
   },
   "outputs": [],
   "source": [
    "plt.figure(figsize = (7, 7))\n",
    "\n",
    "sns.scatterplot(data=df_concat, x = df_concat[0], y = df_concat[1], hue=df_concat['outcome_Yes'])\n",
    "\n",
    "\n",
    "  # Create a scatter plot with x = 0 and y = 1 using df_concat dataframe\n",
    "\n",
    "plt.xlabel(\"PC1\")\n",
    "\n",
    "plt.ylabel(\"PC2\")\n",
    "\n",
    "plt.show()"
   ]
  },
  {
   "cell_type": "markdown",
   "id": "41e6354d",
   "metadata": {
    "id": "41e6354d"
   },
   "source": [
    "**bold text**## t-SNE - T-distributed Stochastic Neighbor Embedding."
   ]
  },
  {
   "cell_type": "markdown",
   "id": "MG11WEQrUiS_",
   "metadata": {
    "id": "MG11WEQrUiS_"
   },
   "source": [
    "What it does: t-SNE is a tool to visualize high-dimensional data. It converts similarities between data points to joint probabilities and tries to minimize the Kullback-Leibler divergence between the joint probabilities of the low-dimensional embedding and the high-dimensional data. t-SNE has a cost function that is not convex, i.e. with different initializations we can get different results.\n",
    "\n",
    "It is highly recommended to use another dimensionality reduction method (e.g. PCA for dense data or TruncatedSVD for sparse data) to reduce the number of dimensions to a reasonable amount (e.g. 50) if the number of features is very high. This will suppress some noise and speed up the computation of pairwise distances between samples."
   ]
  },
  {
   "cell_type": "markdown",
   "id": "lLiey4YgTJ1F",
   "metadata": {
    "id": "lLiey4YgTJ1F"
   },
   "source": [
    "### 2d"
   ]
  },
  {
   "cell_type": "code",
   "execution_count": null,
   "id": "ecc7d3a2",
   "metadata": {
    "id": "ecc7d3a2"
   },
   "outputs": [],
   "source": [
    "tsne = TSNE(n_components = 2, random_state = 1)           # Apply the t-SNE algorithm with random_state = 1\n",
    "\n",
    "data_tsne = tsne.fit_transform(data_scaled)   # Fit and transform t-SNE function on the scaled data"
   ]
  },
  {
   "cell_type": "code",
   "execution_count": null,
   "id": "1c193b5e",
   "metadata": {
    "colab": {
     "base_uri": "https://localhost:8080/"
    },
    "executionInfo": {
     "elapsed": 251,
     "status": "ok",
     "timestamp": 1652241933786,
     "user": {
      "displayName": "Derick Jones",
      "userId": "05040782416209808795"
     },
     "user_tz": 300
    },
    "id": "1c193b5e",
    "outputId": "1a15a646-4fac-42de-af29-446ff15f4e71"
   },
   "outputs": [],
   "source": [
    "data_tsne.shape"
   ]
  },
  {
   "cell_type": "code",
   "execution_count": null,
   "id": "996d173e",
   "metadata": {
    "id": "996d173e"
   },
   "outputs": [],
   "source": [
    "data_tsne = pd.DataFrame(data = data_tsne, columns = ['Component 1', 'Component 2'])"
   ]
  },
  {
   "cell_type": "code",
   "execution_count": null,
   "id": "3a3d5005",
   "metadata": {
    "colab": {
     "base_uri": "https://localhost:8080/",
     "height": 206
    },
    "executionInfo": {
     "elapsed": 7,
     "status": "ok",
     "timestamp": 1652241938411,
     "user": {
      "displayName": "Derick Jones",
      "userId": "05040782416209808795"
     },
     "user_tz": 300
    },
    "id": "3a3d5005",
    "outputId": "f1b0646b-8a6b-4549-c5ab-269602196346"
   },
   "outputs": [],
   "source": [
    "data_tsne.head()"
   ]
  },
  {
   "cell_type": "code",
   "execution_count": null,
   "id": "34a09b16",
   "metadata": {
    "colab": {
     "base_uri": "https://localhost:8080/",
     "height": 279
    },
    "executionInfo": {
     "elapsed": 706,
     "status": "ok",
     "timestamp": 1652241945143,
     "user": {
      "displayName": "Derick Jones",
      "userId": "05040782416209808795"
     },
     "user_tz": 300
    },
    "id": "34a09b16",
    "outputId": "738ab707-e094-4c3d-c54e-e319a0ed5428"
   },
   "outputs": [],
   "source": [
    "sns.scatterplot(x = data_tsne.iloc[:,0], y = data_tsne.iloc[:,1])\n",
    "\n",
    "plt.show()"
   ]
  },
  {
   "cell_type": "code",
   "execution_count": null,
   "id": "4c1ea970",
   "metadata": {
    "colab": {
     "base_uri": "https://localhost:8080/",
     "height": 279
    },
    "executionInfo": {
     "elapsed": 976,
     "status": "ok",
     "timestamp": 1652241951963,
     "user": {
      "displayName": "Derick Jones",
      "userId": "05040782416209808795"
     },
     "user_tz": 300
    },
    "id": "4c1ea970",
    "outputId": "c812458b-2092-4da5-e44f-c08bd05e68fd"
   },
   "outputs": [],
   "source": [
    "# Let's see the scatter plot by outcome variable\n",
    "sns.scatterplot(x = data_tsne.iloc[:,0], y = data_tsne.iloc[:,1], hue = df.outcome_Yes)\n",
    "\n",
    "plt.show()"
   ]
  },
  {
   "cell_type": "markdown",
   "id": "fgSmybVmTN7U",
   "metadata": {
    "id": "fgSmybVmTN7U"
   },
   "source": [
    "### 3D"
   ]
  },
  {
   "cell_type": "code",
   "execution_count": null,
   "id": "ovDHYL06TSR_",
   "metadata": {
    "id": "ovDHYL06TSR_"
   },
   "outputs": [],
   "source": [
    "# Fitting t-SNE with number of components equal to 3 \n",
    "tsne = TSNE(n_components = 3, random_state = 1)\n",
    "\n",
    "data_tsne = tsne.fit_transform(data_scaled)"
   ]
  },
  {
   "cell_type": "code",
   "execution_count": null,
   "id": "Ry2Se3WcTTiU",
   "metadata": {
    "id": "Ry2Se3WcTTiU"
   },
   "outputs": [],
   "source": [
    "data_tsne = pd.DataFrame(data_tsne, columns = ['X1', 'X2', 'X3'])"
   ]
  },
  {
   "cell_type": "code",
   "execution_count": null,
   "id": "UzaLl2xtTWku",
   "metadata": {
    "colab": {
     "base_uri": "https://localhost:8080/",
     "height": 575
    },
    "executionInfo": {
     "elapsed": 1155,
     "status": "ok",
     "timestamp": 1652243345728,
     "user": {
      "displayName": "Derick Jones",
      "userId": "05040782416209808795"
     },
     "user_tz": 300
    },
    "id": "UzaLl2xtTWku",
    "outputId": "2fce3d7e-f059-46b2-fd0e-a25283d20cd1"
   },
   "outputs": [],
   "source": [
    "# Scatter plot for all three components\n",
    "fig = plt.figure(figsize = (10, 10))\n",
    "\n",
    "ax = fig.add_subplot(111, projection = '3d')\n",
    "\n",
    "x = data_tsne['X1']\n",
    "\n",
    "y = data_tsne['X2']\n",
    "\n",
    "z = data_tsne['X3']\n",
    "\n",
    "ax.scatter(x, y, z)\n",
    "\n",
    "plt.show()"
   ]
  },
  {
   "cell_type": "markdown",
   "id": "_2NGyptSTe21",
   "metadata": {
    "id": "_2NGyptSTe21"
   },
   "source": [
    "### Different perplexities"
   ]
  },
  {
   "cell_type": "code",
   "execution_count": null,
   "id": "c7021214",
   "metadata": {
    "id": "c7021214"
   },
   "outputs": [],
   "source": [
    "# Visualizing the Data for Different Perplexity Values"
   ]
  },
  {
   "cell_type": "code",
   "execution_count": null,
   "id": "dd831f93",
   "metadata": {
    "id": "dd831f93"
   },
   "outputs": [],
   "source": [
    "for i in range(10, 50, 5):\n",
    "    tsne = TSNE(n_components = 2, random_state = 1, perplexity = i)\n",
    "    \n",
    "    data_tsne = tsne.fit_transform(data_scaled)\n",
    "    \n",
    "    data_tsne = pd.DataFrame(data_tsne)\n",
    "    \n",
    "    data_tsne.columns = ['X1', 'X2']\n",
    "    \n",
    "    plt.figure(figsize = (7,7))\n",
    "    \n",
    "    sns.scatterplot(x = 'X1', y = 'X2', data = data_tsne, hue=df.outcome_Yes)\n",
    "    \n",
    "    plt.title(\"perplexity = {}\".format(i))"
   ]
  },
  {
   "cell_type": "markdown",
   "id": "uLCsthB4yP2i",
   "metadata": {
    "id": "uLCsthB4yP2i"
   },
   "source": [
    "# BINARY CLASSIFICATION"
   ]
  },
  {
   "cell_type": "markdown",
   "id": "0f1c1715",
   "metadata": {
    "id": "0f1c1715"
   },
   "source": [
    "# **Data preparation for modeling**"
   ]
  },
  {
   "cell_type": "markdown",
   "id": "c901ec1f",
   "metadata": {
    "id": "c901ec1f"
   },
   "source": [
    "## **Separating the independent variables (X) and the dependent variable (Y)**"
   ]
  },
  {
   "cell_type": "code",
   "execution_count": null,
   "id": "3e492d44",
   "metadata": {
    "id": "3e492d44"
   },
   "outputs": [],
   "source": [
    "# Separating the target variable and other variables\n",
    "X = df.drop(columns = 'outcome_Yes')\n",
    "\n",
    "Y = df['outcome_Yes']"
   ]
  },
  {
   "cell_type": "code",
   "execution_count": null,
   "id": "30bb91bf",
   "metadata": {
    "id": "30bb91bf"
   },
   "outputs": [],
   "source": [
    "# Scaling the data\n",
    "sc = StandardScaler()\n",
    "\n",
    "X_scaled = sc.fit_transform(X)\n",
    "\n",
    "X_scaled = pd.DataFrame(X_scaled, columns = X.columns)"
   ]
  },
  {
   "cell_type": "markdown",
   "id": "cb506643",
   "metadata": {
    "id": "cb506643"
   },
   "source": [
    "### **Splitting the data into 70% train and 30% test sets**"
   ]
  },
  {
   "cell_type": "markdown",
   "id": "56ffdd49",
   "metadata": {
    "id": "56ffdd49"
   },
   "source": [
    "Some classification problems can exhibit a large imbalance in the distribution of the target classes: for instance, there could be several times more negative samples than positive samples. In such cases, it is recommended to use the stratified sampling technique to ensure that relative class frequencies are approximately preserved in each train and validation fold."
   ]
  },
  {
   "cell_type": "code",
   "execution_count": null,
   "id": "54c71c8f",
   "metadata": {
    "id": "54c71c8f"
   },
   "outputs": [],
   "source": [
    "# Splitting the data\n",
    "x_train, x_test, y_train, y_test = train_test_split(X_scaled, Y, test_size = 0.3, random_state = 1, stratify = Y)"
   ]
  },
  {
   "cell_type": "markdown",
   "id": "ea0ec1cf",
   "metadata": {
    "id": "ea0ec1cf"
   },
   "source": [
    "**Checking the shape of the train and test data**"
   ]
  },
  {
   "cell_type": "code",
   "execution_count": null,
   "id": "c9e3f2e2",
   "metadata": {
    "colab": {
     "base_uri": "https://localhost:8080/"
    },
    "executionInfo": {
     "elapsed": 223,
     "status": "ok",
     "timestamp": 1652427298601,
     "user": {
      "displayName": "Derick Jones",
      "userId": "05040782416209808795"
     },
     "user_tz": 300
    },
    "id": "c9e3f2e2",
    "outputId": "19547fb9-9bbb-4258-cf69-c4103ee9a539"
   },
   "outputs": [],
   "source": [
    "print(\"Shape of the training set: \", x_train.shape)   \n",
    "\n",
    "print(\"Shape of the test set: \", x_test.shape)\n",
    "\n",
    "print(\"Percentage of classes in the training set:\")\n",
    "\n",
    "print(y_train.value_counts(normalize = True))\n",
    "\n",
    "print(\"Percentage of classes in the test set:\")\n",
    "\n",
    "print(y_test.value_counts(normalize = True))"
   ]
  },
  {
   "cell_type": "markdown",
   "id": "1a8c0a62",
   "metadata": {
    "id": "1a8c0a62"
   },
   "source": [
    "**Function to calculate and print the classification report and confusion matrix so that we don't have to rewrite the same code repeatedly for each model.**"
   ]
  },
  {
   "cell_type": "code",
   "execution_count": null,
   "id": "c2a06ffc",
   "metadata": {
    "id": "c2a06ffc"
   },
   "outputs": [],
   "source": [
    "# Function to print the classification report and get confusion matrix in a proper format\n",
    "\n",
    "def metrics_score(actual, predicted):\n",
    "    print(classification_report(actual, predicted))\n",
    "\n",
    "    print('ROC AUC is',roc_auc_score(actual, predicted))\n",
    "    \n",
    "    cm = confusion_matrix(actual, predicted)\n",
    "\n",
    "    \n",
    "    plt.figure(figsize = (8, 5))\n",
    "    \n",
    "    sns.heatmap(cm, annot = True,  fmt = '.2f', xticklabels = ['No Outcome', 'Outcome'], yticklabels = ['No Outcome', 'Outcome'])\n",
    "    \n",
    "    plt.ylabel('Actual')\n",
    "    \n",
    "    plt.xlabel('Predicted')\n",
    "    \n",
    "    plt.show()"
   ]
  },
  {
   "cell_type": "markdown",
   "id": "0d8184cf",
   "metadata": {
    "id": "0d8184cf"
   },
   "source": [
    "# LDA\n",
    "\n",
    "\n",
    "Prepare the data for modeling.\n",
    "Partition the data into train and test sets.\n",
    "Build the model on the train data.\n",
    "Tune the model if required.\n",
    "Test the data on the test set."
   ]
  },
  {
   "cell_type": "markdown",
   "id": "1238b1b4",
   "metadata": {
    "id": "1238b1b4"
   },
   "source": [
    "### **Linear Discriminant Analysis**\n"
   ]
  },
  {
   "cell_type": "code",
   "execution_count": null,
   "id": "7695547f",
   "metadata": {
    "colab": {
     "base_uri": "https://localhost:8080/"
    },
    "executionInfo": {
     "elapsed": 27780,
     "status": "ok",
     "timestamp": 1652243432322,
     "user": {
      "displayName": "Derick Jones",
      "userId": "05040782416209808795"
     },
     "user_tz": 300
    },
    "id": "7695547f",
    "outputId": "6855684d-ac67-4243-9ef9-95ca80bc9c6d"
   },
   "outputs": [],
   "source": [
    "# Fitting the LDA model\n",
    "lda = LinearDiscriminantAnalysis()  # step 1\n",
    "\n",
    "lda.fit(x_train, y_train)           # step 2 (fitting the object)"
   ]
  },
  {
   "cell_type": "code",
   "execution_count": null,
   "id": "2fe02be2",
   "metadata": {
    "colab": {
     "base_uri": "https://localhost:8080/",
     "height": 508
    },
    "executionInfo": {
     "elapsed": 532,
     "status": "ok",
     "timestamp": 1652243591965,
     "user": {
      "displayName": "Derick Jones",
      "userId": "05040782416209808795"
     },
     "user_tz": 300
    },
    "id": "2fe02be2",
    "outputId": "88fd3c79-23e7-4b6f-9760-1d6248c57211"
   },
   "outputs": [],
   "source": [
    "# Checking model performance of LDA\n",
    "y_pred_train_lda = lda.predict(x_train)  # step 3 (using the fitted object to obtain predictions)\n",
    "\n",
    "metrics_score(y_train, y_pred_train_lda)"
   ]
  },
  {
   "cell_type": "code",
   "execution_count": null,
   "id": "5f317e68",
   "metadata": {
    "colab": {
     "base_uri": "https://localhost:8080/",
     "height": 424
    },
    "executionInfo": {
     "elapsed": 254,
     "status": "ok",
     "timestamp": 1652240736407,
     "user": {
      "displayName": "Derick Jones",
      "userId": "05040782416209808795"
     },
     "user_tz": 300
    },
    "id": "5f317e68",
    "outputId": "9a322120-f0ec-4306-be06-e40d7715a1ea"
   },
   "outputs": [],
   "source": [
    " #Creating the list of column names\n",
    "cols = X.columns\n",
    "\n",
    "# Saving coefficients of LDA model\n",
    "coef_lda = lda.coef_\n",
    "\n",
    "# Printing the cofficients of LDA\n",
    "pd.DataFrame(coef_lda, columns = cols).T.sort_values(by = 0, ascending = False)"
   ]
  },
  {
   "cell_type": "markdown",
   "id": "2648ae1d",
   "metadata": {
    "id": "2648ae1d"
   },
   "source": [
    "#### **Precision-Recall Curve for LDA**\n",
    "\n",
    "**The Precision-Recall curve summarizes the trade-off between the precision and the recall for a predictive model using different probability thresholds.**"
   ]
  },
  {
   "cell_type": "code",
   "execution_count": null,
   "id": "d5889912",
   "metadata": {
    "colab": {
     "base_uri": "https://localhost:8080/",
     "height": 446
    },
    "executionInfo": {
     "elapsed": 521,
     "status": "ok",
     "timestamp": 1652240745982,
     "user": {
      "displayName": "Derick Jones",
      "userId": "05040782416209808795"
     },
     "user_tz": 300
    },
    "id": "d5889912",
    "outputId": "c9187c13-299d-4bdd-8c9f-6c2d0f3c5718"
   },
   "outputs": [],
   "source": [
    "y_scores_lda = lda.predict_proba(x_train) # predict_proba gives the probability of each observation belonging to each class\n",
    "\n",
    "precisions_lda, recalls_lda, thresholds_lda = precision_recall_curve(y_train, y_scores_lda[:, 1])\n",
    "\n",
    "# Plot values of precisions, recalls, and thresholds\n",
    "plt.figure(figsize = (10, 7))\n",
    "\n",
    "plt.plot(thresholds_lda, precisions_lda[:-1], 'b--', label = 'precision')\n",
    "\n",
    "plt.plot(thresholds_lda, recalls_lda[:-1], 'g--', label = 'recall')\n",
    "\n",
    "plt.xlabel('Threshold')\n",
    "\n",
    "plt.legend(loc = 'upper left')\n",
    "\n",
    "plt.ylim([0, 1])\n",
    "\n",
    "plt.show()"
   ]
  },
  {
   "cell_type": "markdown",
   "id": "725e3013",
   "metadata": {
    "id": "725e3013"
   },
   "source": [
    "**Let's check the model performance at this threshold**"
   ]
  },
  {
   "cell_type": "code",
   "execution_count": null,
   "id": "b295d664",
   "metadata": {
    "colab": {
     "base_uri": "https://localhost:8080/",
     "height": 508
    },
    "executionInfo": {
     "elapsed": 546,
     "status": "ok",
     "timestamp": 1652243600560,
     "user": {
      "displayName": "Derick Jones",
      "userId": "05040782416209808795"
     },
     "user_tz": 300
    },
    "id": "b295d664",
    "outputId": "edafd02a-c905-46e0-8e65-023e0d3d09f2"
   },
   "outputs": [],
   "source": [
    "optimal_threshold1 = 0.1\n",
    "\n",
    "y_pred_train_lda = lda.predict_proba(x_train)\n",
    "\n",
    "metrics_score(y_train, y_pred_train_lda[:,1] > optimal_threshold1)"
   ]
  },
  {
   "cell_type": "code",
   "execution_count": null,
   "id": "66566fe3",
   "metadata": {
    "colab": {
     "base_uri": "https://localhost:8080/",
     "height": 508
    },
    "executionInfo": {
     "elapsed": 267,
     "status": "ok",
     "timestamp": 1652243603359,
     "user": {
      "displayName": "Derick Jones",
      "userId": "05040782416209808795"
     },
     "user_tz": 300
    },
    "id": "66566fe3",
    "outputId": "02314b9f-6e1a-4dd6-b477-95a2126180b4"
   },
   "outputs": [],
   "source": [
    "# Checking performance on the test data\n",
    "optimal_threshold1 = 0.1\n",
    "\n",
    "y_pred_test_lda = lda.predict_proba(x_test)\n",
    "\n",
    "metrics_score(y_test, y_pred_test_lda[:,1] > optimal_threshold1)"
   ]
  },
  {
   "cell_type": "markdown",
   "id": "eb778a52",
   "metadata": {
    "id": "eb778a52"
   },
   "source": [
    "# QDA"
   ]
  },
  {
   "cell_type": "markdown",
   "id": "fb141fef",
   "metadata": {
    "id": "fb141fef"
   },
   "source": [
    "### **Quadratic Discriminant Analysis**"
   ]
  },
  {
   "cell_type": "markdown",
   "id": "83ea965f",
   "metadata": {
    "id": "83ea965f"
   },
   "source": [
    "Quadratic discriminant analysis (QDA) is a probabilistic parametric classification technique that represents an evolution of LDA for nonlinear class separations. QDA, like LDA, is based on the hypothesis that the probability density distributions are multivariate normal but, in this case, the dispersion is not the same for all of the categories."
   ]
  },
  {
   "cell_type": "code",
   "execution_count": null,
   "id": "c069a58f",
   "metadata": {
    "colab": {
     "base_uri": "https://localhost:8080/"
    },
    "executionInfo": {
     "elapsed": 29625,
     "status": "ok",
     "timestamp": 1652240827190,
     "user": {
      "displayName": "Derick Jones",
      "userId": "05040782416209808795"
     },
     "user_tz": 300
    },
    "id": "c069a58f",
    "outputId": "25f9afe0-7fdc-4d7e-9ee8-5422c835519f"
   },
   "outputs": [],
   "source": [
    "# Fitting QDA model\n",
    "qda = QuadraticDiscriminantAnalysis()\n",
    "\n",
    "qda.fit(x_train, y_train)"
   ]
  },
  {
   "cell_type": "code",
   "execution_count": null,
   "id": "1e4d2a52",
   "metadata": {
    "colab": {
     "base_uri": "https://localhost:8080/",
     "height": 490
    },
    "executionInfo": {
     "elapsed": 5677,
     "status": "ok",
     "timestamp": 1652240845642,
     "user": {
      "displayName": "Derick Jones",
      "userId": "05040782416209808795"
     },
     "user_tz": 300
    },
    "id": "1e4d2a52",
    "outputId": "36abedbc-7fa4-4b3a-f31a-97c588b6f396"
   },
   "outputs": [],
   "source": [
    "# Checking model performance on the training data\n",
    "y_pred_train_qda = qda.predict(x_train)\n",
    "\n",
    "metrics_score(y_train, y_pred_train_qda)"
   ]
  },
  {
   "cell_type": "code",
   "execution_count": null,
   "id": "S1sWHxwTWwAG",
   "metadata": {
    "colab": {
     "base_uri": "https://localhost:8080/",
     "height": 166
    },
    "executionInfo": {
     "elapsed": 248,
     "status": "error",
     "timestamp": 1652243022041,
     "user": {
      "displayName": "Derick Jones",
      "userId": "05040782416209808795"
     },
     "user_tz": 300
    },
    "id": "S1sWHxwTWwAG",
    "outputId": "bd06bb61-22f6-4439-c969-332fd4c28b96"
   },
   "outputs": [],
   "source": [
    "sklearn.metrics.roc_auc_score()"
   ]
  },
  {
   "cell_type": "code",
   "execution_count": null,
   "id": "9c3616d1",
   "metadata": {
    "colab": {
     "base_uri": "https://localhost:8080/",
     "height": 494
    },
    "executionInfo": {
     "elapsed": 2816,
     "status": "ok",
     "timestamp": 1652240854949,
     "user": {
      "displayName": "Derick Jones",
      "userId": "05040782416209808795"
     },
     "user_tz": 300
    },
    "id": "9c3616d1",
    "outputId": "6992c143-816a-450b-f0bd-0f345a428a12"
   },
   "outputs": [],
   "source": [
    "# Checking performance of the model on the test data\n",
    "y_pred_test_qda = qda.predict(x_test)\n",
    "\n",
    "metrics_score(y_test, y_pred_test_qda)"
   ]
  },
  {
   "cell_type": "markdown",
   "id": "358aaac3",
   "metadata": {
    "id": "358aaac3"
   },
   "source": [
    "# Logistic Model"
   ]
  },
  {
   "cell_type": "markdown",
   "id": "e7ca0c84",
   "metadata": {
    "id": "e7ca0c84"
   },
   "source": [
    "### **Logistic Regression**"
   ]
  },
  {
   "cell_type": "markdown",
   "id": "8f825c37",
   "metadata": {
    "id": "8f825c37"
   },
   "source": [
    "Logistic Regression is a supervised learning algorithm, generally used for binary classification problems, i.e., where the dependent variable is categorical and has only two possible values. In logistic regression, we use the sigmoid function to calculate the probability of an event Y, given some features X as:\n",
    "\n",
    "                                    P(Y)=1/(1 + exp(-X))"
   ]
  },
  {
   "cell_type": "code",
   "execution_count": null,
   "id": "647810ec",
   "metadata": {
    "colab": {
     "base_uri": "https://localhost:8080/"
    },
    "executionInfo": {
     "elapsed": 20128,
     "status": "ok",
     "timestamp": 1652283804220,
     "user": {
      "displayName": "Derick Jones",
      "userId": "05040782416209808795"
     },
     "user_tz": 300
    },
    "id": "647810ec",
    "outputId": "a0f36aa8-d58b-4cd5-e133-a97bbc3885cf"
   },
   "outputs": [],
   "source": [
    "# Fitting the logistic regression model\n",
    "lg = LogisticRegression()\n",
    "\n",
    "lg.fit(x_train,y_train)"
   ]
  },
  {
   "cell_type": "code",
   "execution_count": null,
   "id": "47d02933",
   "metadata": {
    "colab": {
     "base_uri": "https://localhost:8080/",
     "height": 508
    },
    "executionInfo": {
     "elapsed": 978,
     "status": "ok",
     "timestamp": 1652283807032,
     "user": {
      "displayName": "Derick Jones",
      "userId": "05040782416209808795"
     },
     "user_tz": 300
    },
    "id": "47d02933",
    "outputId": "b8088919-c8ad-45f6-f137-42ffdcf245be"
   },
   "outputs": [],
   "source": [
    "# Checking the performance on the training data\n",
    "y_pred_train = lg.predict(x_train)\n",
    "\n",
    "metrics_score(y_train, y_pred_train)"
   ]
  },
  {
   "cell_type": "code",
   "execution_count": null,
   "id": "a982db8d",
   "metadata": {
    "colab": {
     "base_uri": "https://localhost:8080/",
     "height": 508
    },
    "executionInfo": {
     "elapsed": 750,
     "status": "ok",
     "timestamp": 1652283816084,
     "user": {
      "displayName": "Derick Jones",
      "userId": "05040782416209808795"
     },
     "user_tz": 300
    },
    "id": "a982db8d",
    "outputId": "e71465bd-d300-4064-a6d9-5c0addbaf117"
   },
   "outputs": [],
   "source": [
    "# Checking the performance on the test dataset\n",
    "y_pred_test = lg.predict(x_test)\n",
    "metrics_score(y_test, y_pred_test)"
   ]
  },
  {
   "cell_type": "code",
   "execution_count": null,
   "id": "9069b3d4",
   "metadata": {
    "colab": {
     "base_uri": "https://localhost:8080/",
     "height": 424
    },
    "executionInfo": {
     "elapsed": 252,
     "status": "ok",
     "timestamp": 1652283821489,
     "user": {
      "displayName": "Derick Jones",
      "userId": "05040782416209808795"
     },
     "user_tz": 300
    },
    "id": "9069b3d4",
    "outputId": "7c41bd65-9d3f-414b-db22-7860b808001c"
   },
   "outputs": [],
   "source": [
    "# Printing the coefficients of logistic regression\n",
    "cols = X.columns\n",
    "\n",
    "coef_lg = lg.coef_\n",
    "\n",
    "pd.DataFrame(coef_lg,columns = cols).T.sort_values(by = 0, ascending = False)"
   ]
  },
  {
   "cell_type": "markdown",
   "id": "1ef0d1d0",
   "metadata": {
    "id": "1ef0d1d0"
   },
   "source": [
    "The coefficients of the logistic regression model give us the log of odds, which is hard to interpret in the real world. We can convert the log of odds into odds by taking its exponential."
   ]
  },
  {
   "cell_type": "code",
   "execution_count": null,
   "id": "089dcde7",
   "metadata": {
    "colab": {
     "base_uri": "https://localhost:8080/",
     "height": 424
    },
    "executionInfo": {
     "elapsed": 269,
     "status": "ok",
     "timestamp": 1652283841975,
     "user": {
      "displayName": "Derick Jones",
      "userId": "05040782416209808795"
     },
     "user_tz": 300
    },
    "id": "089dcde7",
    "outputId": "6ab024f3-c132-4146-95c1-632ae63f110c"
   },
   "outputs": [],
   "source": [
    "odds = np.exp(lg.coef_[0]) # Finding the odds\n",
    "\n",
    "# Adding the odds to a DataFrame and sorting the values\n",
    "pd.DataFrame(odds, x_train.columns, columns = ['odds']).sort_values(by = 'odds', ascending = False) "
   ]
  },
  {
   "cell_type": "markdown",
   "id": "d7c53427",
   "metadata": {
    "id": "d7c53427"
   },
   "source": [
    "**The Precision-Recall Curve for Logistic Regression**"
   ]
  },
  {
   "cell_type": "code",
   "execution_count": null,
   "id": "ff7d948c",
   "metadata": {
    "colab": {
     "base_uri": "https://localhost:8080/",
     "height": 446
    },
    "executionInfo": {
     "elapsed": 856,
     "status": "ok",
     "timestamp": 1652283849650,
     "user": {
      "displayName": "Derick Jones",
      "userId": "05040782416209808795"
     },
     "user_tz": 300
    },
    "id": "ff7d948c",
    "outputId": "aeffe26d-d69d-4a33-ed49-805050ef139e"
   },
   "outputs": [],
   "source": [
    "y_scores_lg = lg.predict_proba(x_train) # predict_proba gives the probability of each observation belonging to each class\n",
    "\n",
    "\n",
    "precisions_lg, recalls_lg, thresholds_lg = precision_recall_curve(y_train, y_scores_lg[:, 1])\n",
    "\n",
    "# Plot values of precisions, recalls, and thresholds\n",
    "plt.figure(figsize = (10, 7))\n",
    "\n",
    "plt.plot(thresholds_lg, precisions_lg[:-1], 'b--', label = 'precision')\n",
    "\n",
    "plt.plot(thresholds_lg, recalls_lg[:-1], 'g--', label = 'recall')\n",
    "\n",
    "plt.xlabel('Threshold')\n",
    "\n",
    "plt.legend(loc = 'upper left')\n",
    "\n",
    "plt.ylim([0, 1])\n",
    "\n",
    "plt.show()"
   ]
  },
  {
   "cell_type": "code",
   "execution_count": null,
   "id": "9a283873",
   "metadata": {
    "id": "9a283873"
   },
   "outputs": [],
   "source": [
    "#optimal threshold on training data"
   ]
  },
  {
   "cell_type": "code",
   "execution_count": null,
   "id": "ac91251e",
   "metadata": {
    "colab": {
     "base_uri": "https://localhost:8080/",
     "height": 508
    },
    "executionInfo": {
     "elapsed": 882,
     "status": "ok",
     "timestamp": 1652283859761,
     "user": {
      "displayName": "Derick Jones",
      "userId": "05040782416209808795"
     },
     "user_tz": 300
    },
    "id": "ac91251e",
    "outputId": "ce44d21f-31db-46ca-8709-49c822cc26e2"
   },
   "outputs": [],
   "source": [
    "optimal_threshold1 = .3\n",
    "\n",
    "y_pred_train = lg.predict_proba(x_train)\n",
    "\n",
    "metrics_score(y_train, y_pred_train[:, 1] > optimal_threshold1)"
   ]
  },
  {
   "cell_type": "code",
   "execution_count": null,
   "id": "lJpLfSACjqbk",
   "metadata": {
    "colab": {
     "base_uri": "https://localhost:8080/",
     "height": 279
    },
    "executionInfo": {
     "elapsed": 268,
     "status": "ok",
     "timestamp": 1652283866830,
     "user": {
      "displayName": "Derick Jones",
      "userId": "05040782416209808795"
     },
     "user_tz": 300
    },
    "id": "lJpLfSACjqbk",
    "outputId": "fdb77f39-8148-4dd2-baf0-c398babbfd84"
   },
   "outputs": [],
   "source": [
    "# ROC Curve\n",
    "#define metrics\n",
    "fpr, tpr, _ = metrics.roc_curve(y_train, y_pred_train[:, 1] > optimal_threshold1)\n",
    "auc = metrics.roc_auc_score(y_train, y_pred_train[:, 1] > optimal_threshold1)\n",
    "\n",
    "#create ROC curve\n",
    "plt.plot(fpr,tpr,label=\"AUC=\"+str(auc))\n",
    "plt.ylabel('True Positive Rate')\n",
    "plt.xlabel('False Positive Rate')\n",
    "plt.legend(loc=4)\n",
    "plt.show()"
   ]
  },
  {
   "cell_type": "code",
   "execution_count": null,
   "id": "3b21ff26",
   "metadata": {
    "colab": {
     "base_uri": "https://localhost:8080/",
     "height": 508
    },
    "executionInfo": {
     "elapsed": 806,
     "status": "ok",
     "timestamp": 1652283876393,
     "user": {
      "displayName": "Derick Jones",
      "userId": "05040782416209808795"
     },
     "user_tz": 300
    },
    "id": "3b21ff26",
    "outputId": "a9d1faf9-6e4f-469a-9929-456ec0acc8ea"
   },
   "outputs": [],
   "source": [
    "# optimal threshold on test data\n",
    "\n",
    "optimal_threshold1 = .3\n",
    "\n",
    "y_pred_test = lg.predict_proba(x_test)\n",
    "\n",
    "metrics_score(y_test, y_pred_test[:, 1] > optimal_threshold1)"
   ]
  },
  {
   "cell_type": "code",
   "execution_count": null,
   "id": "hpLKMN4kj9EW",
   "metadata": {
    "colab": {
     "base_uri": "https://localhost:8080/",
     "height": 279
    },
    "executionInfo": {
     "elapsed": 254,
     "status": "ok",
     "timestamp": 1652283893354,
     "user": {
      "displayName": "Derick Jones",
      "userId": "05040782416209808795"
     },
     "user_tz": 300
    },
    "id": "hpLKMN4kj9EW",
    "outputId": "da9a2473-e90e-4a11-9400-6d419bd591a5"
   },
   "outputs": [],
   "source": [
    "# ROC Curve\n",
    "#define metrics\n",
    "fpr, tpr, _ = metrics.roc_curve(y_test, y_pred_test[:, 1] > optimal_threshold1)\n",
    "auc = metrics.roc_auc_score(y_test, y_pred_test[:, 1] > optimal_threshold1)\n",
    "\n",
    "#create ROC curve\n",
    "plt.plot(fpr,tpr,label=\"AUC=\"+str(auc))\n",
    "plt.ylabel('True Positive Rate')\n",
    "plt.xlabel('False Positive Rate')\n",
    "plt.legend(loc=4)\n",
    "plt.show()"
   ]
  },
  {
   "cell_type": "markdown",
   "id": "50a68aad",
   "metadata": {
    "id": "50a68aad"
   },
   "source": [
    "# **K-Nearest Neighbors (K-NN)**"
   ]
  },
  {
   "cell_type": "markdown",
   "id": "3ee379db",
   "metadata": {
    "id": "3ee379db"
   },
   "source": [
    "K-NN uses features from the training data to predict the values of new data points, which means the new data point will be assigned a value based on how similar it is to the data points in the training set.\n",
    "\n",
    "The following steps are performed in K-NN:\n",
    "\n",
    "Select K\n",
    "Calculate distance (Euclidean, Manhattan, etc.)\n",
    "Find the K closest neighbors\n",
    "Take majority vote for labels\n",
    "The “K” in the K-NN algorithm is the number of nearest neighbors we wish to take the vote from. Generally, K is taken to be an odd number when the number of classes is even, so as to get a majority vote. Let's say K=3. In that case, we will make a circle with the new data point as the center just as big as enclosing only the three nearest data points on the plane.\n",
    "\n",
    "But before actually building the model, we need to identify the value of K to be used in K-NN. We will perform the following steps for the same.\n",
    "\n",
    "For every value of K (from 1 to 15), split the training set into a new train and validation sets (30 times)\n",
    "Scale the training data and the validation data\n",
    "Take the average of the error on these training and the validation sets for each value of K\n",
    "Plot the average train vs validation error for all Ks\n",
    "Choose the optimal K from the plot where the two errors are comparable"
   ]
  },
  {
   "cell_type": "markdown",
   "id": "2748d887",
   "metadata": {
    "id": "2748d887"
   },
   "source": [
    "Find where the test error (error on validation data) does not increase\n",
    "Find where the traning error does not increase. \n",
    "Pick that K\n"
   ]
  },
  {
   "cell_type": "markdown",
   "id": "dcd11182",
   "metadata": {
    "id": "dcd11182"
   },
   "source": [
    "## Grid Search to Find value of K and Other Hyperparameters\n",
    "\n",
    "\n",
    "Points to note:\n",
    "\n",
    "Hyperparameter tuning is tricky in the sense that there is no direct way to calculate how a change in the hyperparameter value will reduce the loss of your model, so we usually resort to experimentation.\n",
    "\n",
    "Grid search is a tuning technique that attempts to compute the optimum values of hyperparameters.\n",
    "\n",
    "Grid search is an exhaustive search of values that tries many iterations to compute the optimum values of hyperparameters. So, it might take up to 30 minutes for the code to run depending on the number of values and hyperparameters passed.\n",
    "\n",
    "The hyperparameters that we are tuning are:\n",
    "\n",
    "n_neighbors: Number of neighbors to use.\n",
    "\n",
    "weights={'uniform', 'distance'}\n",
    "\n",
    "uniform : uniform weights. All points in each neighborhood are weighted equally.\n",
    "distance : weight points by the inverse of their distance. In this case, closer neighbors of a query point will have a greater influence than neighbors that are further away.\n",
    "p: When p = 1, this is equivalent to using Manhattan_distance (L1), and Euclidean_distance (L2) is used for p = 2."
   ]
  },
  {
   "cell_type": "code",
   "execution_count": null,
   "id": "0e7c910f",
   "metadata": {
    "id": "0e7c910f"
   },
   "outputs": [],
   "source": [
    "# Splitting the data into train and test sets\n",
    "X_train, X_test, y_train, y_test = train_test_split(X, Y, test_size = 0.30, random_state = 1, stratify = Y)"
   ]
  },
  {
   "cell_type": "code",
   "execution_count": null,
   "id": "ef9a522e",
   "metadata": {
    "id": "ef9a522e"
   },
   "outputs": [],
   "source": [
    "# Scaling the data\n",
    "scaler = StandardScaler()\n",
    "\n",
    "# fit_transform the training data\n",
    "X_train_scaled = pd.DataFrame(scaler.fit_transform(X_train), columns = X_train.columns)\n",
    "\n",
    "# Transform the testing data\n",
    "X_test_scaled = pd.DataFrame(scaler.transform(X_test), columns = X_test.columns) "
   ]
  },
  {
   "cell_type": "markdown",
   "id": "37bde020",
   "metadata": {
    "id": "37bde020"
   },
   "source": [
    "## GRID Search Takes a Long Time"
   ]
  },
  {
   "cell_type": "code",
   "execution_count": null,
   "id": "001d7432",
   "metadata": {
    "id": "001d7432"
   },
   "outputs": [],
   "source": [
    "# Grid Search. This takes a long time. \n",
    "knn = KNeighborsClassifier()\n",
    "\n",
    "params_knn = {'n_neighbors':np.arange(2, 20, 2), 'weights':['uniform','distance'], 'p':[1, 2]}\n",
    "\n",
    "grid_knn = GridSearchCV(estimator = knn, param_grid = params_knn, scoring = 'f1', cv = 10)\n",
    "\n",
    "model_knn = grid_knn.fit(X_train_scaled,y_train)\n",
    "\n",
    "knn_estimator = model_knn.best_estimator_\n",
    "\n",
    "print(knn_estimator)"
   ]
  },
  {
   "cell_type": "code",
   "execution_count": null,
   "id": "0fbc65d2",
   "metadata": {
    "id": "0fbc65d2"
   },
   "outputs": [],
   "source": [
    "# Define K-NN model\n",
    "\n",
    "knn = KNeighborsClassifier(n_neighbors=5)"
   ]
  },
  {
   "cell_type": "code",
   "execution_count": null,
   "id": "984cf642",
   "metadata": {
    "colab": {
     "base_uri": "https://localhost:8080/"
    },
    "executionInfo": {
     "elapsed": 239,
     "status": "ok",
     "timestamp": 1652240936689,
     "user": {
      "displayName": "Derick Jones",
      "userId": "05040782416209808795"
     },
     "user_tz": 300
    },
    "id": "984cf642",
    "outputId": "f490b280-523a-4afc-af74-71b72f84c009"
   },
   "outputs": [],
   "source": [
    "# Fitting data to the K-NN model\n",
    "\n",
    "knn.fit(x_train,y_train)"
   ]
  },
  {
   "cell_type": "code",
   "execution_count": null,
   "id": "d3b732fc",
   "metadata": {
    "colab": {
     "base_uri": "https://localhost:8080/",
     "height": 490
    },
    "executionInfo": {
     "elapsed": 31859,
     "status": "ok",
     "timestamp": 1652240970428,
     "user": {
      "displayName": "Derick Jones",
      "userId": "05040782416209808795"
     },
     "user_tz": 300
    },
    "id": "d3b732fc",
    "outputId": "7bf665b1-805f-4e8b-b728-13ad99ad45cc"
   },
   "outputs": [],
   "source": [
    "# Checking the performance of K-NN model on the training data\n",
    "y_pred_train_knn = knn.predict(x_train)\n",
    "\n",
    "metrics_score(y_train, y_pred_train_knn)"
   ]
  },
  {
   "cell_type": "code",
   "execution_count": null,
   "id": "aeb673de",
   "metadata": {
    "colab": {
     "base_uri": "https://localhost:8080/",
     "height": 490
    },
    "executionInfo": {
     "elapsed": 13892,
     "status": "ok",
     "timestamp": 1652240991492,
     "user": {
      "displayName": "Derick Jones",
      "userId": "05040782416209808795"
     },
     "user_tz": 300
    },
    "id": "aeb673de",
    "outputId": "930dd194-7bff-4f9c-919b-d4e461e9f8b2"
   },
   "outputs": [],
   "source": [
    "# Checking the performance of K-NN model on the testing data\n",
    "y_pred_test_knn = knn.predict(x_test)\n",
    "\n",
    "metrics_score(y_test, y_pred_test_knn)"
   ]
  },
  {
   "cell_type": "markdown",
   "id": "fae9a78c",
   "metadata": {
    "id": "fae9a78c"
   },
   "source": [
    "# **Decision Tree Model**"
   ]
  },
  {
   "cell_type": "markdown",
   "id": "2fa5d6f3",
   "metadata": {
    "id": "2fa5d6f3"
   },
   "source": [
    "### **Building a Decision Tree Model**\n",
    "\n",
    "* We will build our model using the **DecisionTreeClassifier function.** \n",
    "* If the frequency of class A is 17% and the frequency of class B is 83%, then class B will become the dominant class and **the decision tree will become biased toward the dominant class.**\n",
    "* **class_weight is a hyperparameter** for the decision tree classifier, and in this case, we can pass a dictionary {0:0.17, 1:0.83} to the model to specify the weight of each class and the decision tree will give more weightage to class 1."
   ]
  },
  {
   "cell_type": "markdown",
   "id": "63efe938",
   "metadata": {
    "id": "63efe938"
   },
   "source": [
    "We will use the class_weight hyperparameter with the value equal to {0: 0.3, 1: 0.7} which is approximately the opposite of the imbalance in the original data. \n",
    "\n",
    "**This would tell the model that 1 is the important class here.**"
   ]
  },
  {
   "cell_type": "code",
   "execution_count": null,
   "id": "9126d01c",
   "metadata": {
    "colab": {
     "base_uri": "https://localhost:8080/"
    },
    "executionInfo": {
     "elapsed": 229,
     "status": "ok",
     "timestamp": 1652283906585,
     "user": {
      "displayName": "Derick Jones",
      "userId": "05040782416209808795"
     },
     "user_tz": 300
    },
    "id": "9126d01c",
    "outputId": "ad13e519-7ac2-48c4-cfb5-026946206d05"
   },
   "outputs": [],
   "source": [
    "# Describe Feature of Interest\n",
    "df.outcome_Yes.describe()"
   ]
  },
  {
   "cell_type": "code",
   "execution_count": null,
   "id": "60a420ab",
   "metadata": {
    "id": "60a420ab"
   },
   "outputs": [],
   "source": [
    "# Building decision tree model\n",
    "dt = DecisionTreeClassifier(class_weight = {0: 0.11, 1: 0.89}, random_state = 1)"
   ]
  },
  {
   "cell_type": "code",
   "execution_count": null,
   "id": "97492f1f",
   "metadata": {
    "colab": {
     "base_uri": "https://localhost:8080/"
    },
    "executionInfo": {
     "elapsed": 39060,
     "status": "ok",
     "timestamp": 1652283960897,
     "user": {
      "displayName": "Derick Jones",
      "userId": "05040782416209808795"
     },
     "user_tz": 300
    },
    "id": "97492f1f",
    "outputId": "4090aa91-c412-4762-db0f-6b7a85e03f37"
   },
   "outputs": [],
   "source": [
    "# Fitting decision tree model\n",
    "dt.fit(x_train, y_train)"
   ]
  },
  {
   "cell_type": "code",
   "execution_count": null,
   "id": "ee4f6f9e",
   "metadata": {
    "colab": {
     "base_uri": "https://localhost:8080/",
     "height": 508
    },
    "executionInfo": {
     "elapsed": 1379,
     "status": "ok",
     "timestamp": 1652283965620,
     "user": {
      "displayName": "Derick Jones",
      "userId": "05040782416209808795"
     },
     "user_tz": 300
    },
    "id": "ee4f6f9e",
    "outputId": "c19f4559-0800-4958-f7ee-fefcf7f58a07"
   },
   "outputs": [],
   "source": [
    "# Checking performance on the training dataset\n",
    "y_train_pred_dt = dt.predict(x_train)\n",
    "\n",
    "metrics_score(y_train, y_train_pred_dt)"
   ]
  },
  {
   "cell_type": "code",
   "execution_count": null,
   "id": "1NjE1GASkQPh",
   "metadata": {
    "colab": {
     "base_uri": "https://localhost:8080/",
     "height": 279
    },
    "executionInfo": {
     "elapsed": 322,
     "status": "ok",
     "timestamp": 1652283969267,
     "user": {
      "displayName": "Derick Jones",
      "userId": "05040782416209808795"
     },
     "user_tz": 300
    },
    "id": "1NjE1GASkQPh",
    "outputId": "10a21f87-da7f-4e46-b84c-ae09551d0d5c"
   },
   "outputs": [],
   "source": [
    "# ROC Curve\n",
    "#define metrics\n",
    "fpr, tpr, _ = metrics.roc_curve(y_train, y_train_pred_dt)\n",
    "auc = metrics.roc_auc_score(y_train, y_train_pred_dt)\n",
    "\n",
    "#create ROC curve\n",
    "plt.plot(fpr,tpr,label=\"AUC=\"+str(auc))\n",
    "plt.ylabel('True Positive Rate')\n",
    "plt.xlabel('False Positive Rate')\n",
    "plt.legend(loc=4)\n",
    "plt.show()"
   ]
  },
  {
   "cell_type": "code",
   "execution_count": null,
   "id": "8c587ad7",
   "metadata": {
    "colab": {
     "base_uri": "https://localhost:8080/",
     "height": 508
    },
    "executionInfo": {
     "elapsed": 1028,
     "status": "ok",
     "timestamp": 1652283987166,
     "user": {
      "displayName": "Derick Jones",
      "userId": "05040782416209808795"
     },
     "user_tz": 300
    },
    "id": "8c587ad7",
    "outputId": "430088f8-71c4-4c5c-bb8d-3baf00072d9c"
   },
   "outputs": [],
   "source": [
    "# Checking performance on the test dataset\n",
    "y_test_pred_dt = dt.predict(x_test)\n",
    "\n",
    "metrics_score(y_test, y_test_pred_dt)"
   ]
  },
  {
   "cell_type": "code",
   "execution_count": null,
   "id": "LtOQSxtPkhHy",
   "metadata": {
    "colab": {
     "base_uri": "https://localhost:8080/",
     "height": 279
    },
    "executionInfo": {
     "elapsed": 250,
     "status": "ok",
     "timestamp": 1652283997812,
     "user": {
      "displayName": "Derick Jones",
      "userId": "05040782416209808795"
     },
     "user_tz": 300
    },
    "id": "LtOQSxtPkhHy",
    "outputId": "54f05702-f37f-4155-beb6-850629063032"
   },
   "outputs": [],
   "source": [
    "# ROC Curve\n",
    "#define metrics\n",
    "fpr, tpr, _ = metrics.roc_curve(y_test, y_test_pred_dt)\n",
    "auc = metrics.roc_auc_score(y_test, y_test_pred_dt)\n",
    "\n",
    "#create ROC curve\n",
    "plt.plot(fpr,tpr,label=\"AUC=\"+str(auc))\n",
    "plt.ylabel('True Positive Rate')\n",
    "plt.xlabel('False Positive Rate')\n",
    "plt.legend(loc=4)\n",
    "plt.show()"
   ]
  },
  {
   "cell_type": "code",
   "execution_count": null,
   "id": "a45d231e",
   "metadata": {
    "colab": {
     "base_uri": "https://localhost:8080/",
     "height": 789
    },
    "executionInfo": {
     "elapsed": 56247,
     "status": "ok",
     "timestamp": 1652241092325,
     "user": {
      "displayName": "Derick Jones",
      "userId": "05040782416209808795"
     },
     "user_tz": 300
    },
    "id": "a45d231e",
    "outputId": "fc5a1b09-7896-4f70-e2a7-be385def53b1"
   },
   "outputs": [],
   "source": [
    "# Plot the feature importance\n",
    "\n",
    "importances = dt.feature_importances_\n",
    "\n",
    "columns = X.columns\n",
    "\n",
    "importance_df = pd.DataFrame(importances, index = columns, columns = ['Importance']).sort_values(by = 'Importance', ascending = False)\n",
    "\n",
    "plt.figure(figsize = (13, 13))\n",
    "\n",
    "sns.barplot(importance_df.Importance,importance_df.index)"
   ]
  },
  {
   "cell_type": "code",
   "execution_count": null,
   "id": "67320f55",
   "metadata": {
    "colab": {
     "base_uri": "https://localhost:8080/",
     "height": 424
    },
    "executionInfo": {
     "elapsed": 221,
     "status": "ok",
     "timestamp": 1652241097651,
     "user": {
      "displayName": "Derick Jones",
      "userId": "05040782416209808795"
     },
     "user_tz": 300
    },
    "id": "67320f55",
    "outputId": "67f4a939-f8bb-4270-a542-369c78930cd8"
   },
   "outputs": [],
   "source": [
    "importance_df"
   ]
  },
  {
   "cell_type": "code",
   "execution_count": null,
   "id": "NbH6mDgPvqid",
   "metadata": {
    "colab": {
     "base_uri": "https://localhost:8080/",
     "height": 1000
    },
    "executionInfo": {
     "elapsed": 2485,
     "status": "ok",
     "timestamp": 1652284011609,
     "user": {
      "displayName": "Derick Jones",
      "userId": "05040782416209808795"
     },
     "user_tz": 300
    },
    "id": "NbH6mDgPvqid",
    "outputId": "24d84a5d-6fbb-4e4b-ff78-197d6d1cbeff"
   },
   "outputs": [],
   "source": [
    "# Plot the Tree\n",
    "features = list(X.columns)\n",
    "\n",
    "plt.figure(figsize = (30, 20))\n",
    "\n",
    "tree.plot_tree(dt, max_depth = 4, feature_names = features, filled = True, fontsize = 12, node_ids = True, class_names = True)\n",
    "\n",
    "plt.show()"
   ]
  },
  {
   "cell_type": "code",
   "execution_count": null,
   "id": "eGq3kQlsMep_",
   "metadata": {
    "colab": {
     "base_uri": "https://localhost:8080/",
     "height": 404
    },
    "executionInfo": {
     "elapsed": 20750,
     "status": "ok",
     "timestamp": 1652241165977,
     "user": {
      "displayName": "Derick Jones",
      "userId": "05040782416209808795"
     },
     "user_tz": 300
    },
    "id": "eGq3kQlsMep_",
    "outputId": "38697285-da51-4c28-8ced-888783362381"
   },
   "outputs": [],
   "source": [
    "# Decision Tree Depth vs Error on test and train data\n",
    "\n",
    "train_scores = []\n",
    "\n",
    "test_scores = []\n",
    "\n",
    "for depth in range(1, 10):\n",
    "    \n",
    "    clf = tree.DecisionTreeClassifier(criterion = 'entropy', max_depth = depth)\n",
    "    \n",
    "    clf = clf.fit(x_train, y_train)\n",
    "    \n",
    "    train_scores.append(1 - clf.score(x_train, y_train))\n",
    "    \n",
    "    test_scores.append(1 - clf.score(x_test, y_test))\n",
    "\n",
    "plt.plot(range(1, 10), train_scores, '-o', label = \"train\")\n",
    "\n",
    "plt.plot(range(1, 10), test_scores, '-o', label = \"test\")\n",
    "\n",
    "plt.legend(loc = 'best')\n",
    "\n",
    "plt.xlabel('max depth')\n",
    "\n",
    "plt.ylabel('misclassification error (pcnt)')\n",
    "\n",
    "# Setting the range of the Y-axis\n",
    "plt.ylim(0, 0.3)\n",
    "\n",
    "plt.title(f\"Decision Tree\")\n",
    "\n",
    "fig = plt.gcf()\n",
    "\n",
    "fig.set_size_inches(10, 6)\n",
    "\n",
    "plt.show()"
   ]
  },
  {
   "cell_type": "markdown",
   "id": "d8c649c4",
   "metadata": {
    "id": "d8c649c4"
   },
   "source": [
    "### **Tuning Models**"
   ]
  },
  {
   "cell_type": "markdown",
   "id": "55aed0e9",
   "metadata": {
    "id": "55aed0e9"
   },
   "source": [
    "Using GridSearch for Hyperparameter Tuning\n",
    "Hyperparameter tuning is tricky in the sense that there is no direct way to calculate how a change in the hyperparameter value will reduce the loss of your model, so we usually resort to experimentation. We'll use Grid search to perform hyperparameter tuning.\n",
    "Grid search is a tuning technique that attempts to compute the optimum values of hyperparameters.\n",
    "It is an exhaustive search that is performed on the specific parameter values of a model.\n",
    "The parameters of the estimator/model used to apply these methods are optimized by cross-validated grid-search over a parameter grid."
   ]
  },
  {
   "cell_type": "markdown",
   "id": "cfca0440",
   "metadata": {
    "id": "cfca0440"
   },
   "source": [
    "Criterion{“gini”, “entropy”}\n",
    "\n",
    "The function is to measure the quality of a split. Supported criteria are “gini” for the Gini impurity and “entropy” for the information gain.\n",
    "\n",
    "max_depth\n",
    "\n",
    "The maximum depth of the tree. If None, then nodes are expanded until all leaves are pure or until all leaves contain less than min_samples_split samples.\n",
    "\n",
    "min_samples_leaf: The minimum number of samples is required to be at a leaf node. A split point at any depth will only be considered if it leaves at least min_samples_leaf training samples in each of the left and right branches. This may have the effect of smoothing the model, especially in regression."
   ]
  },
  {
   "cell_type": "markdown",
   "id": "9f4baaf5",
   "metadata": {
    "id": "9f4baaf5"
   },
   "source": [
    "### **Decision Tree - Hyperparameter Tuning**\n",
    "\n",
    "We will use the class_weight hyperparameter with the value equal to {0: 0.3, 1: 0.7} which is approximately the opposite of the imbalance in the original data. \n",
    "\n",
    "**This would tell the model that 1 is the important class here.**"
   ]
  },
  {
   "cell_type": "code",
   "execution_count": null,
   "id": "01e5b9f3",
   "metadata": {
    "colab": {
     "background_save": true
    },
    "id": "01e5b9f3",
    "outputId": "4ca658c9-5a61-4845-f1f0-e9097d8537d9"
   },
   "outputs": [],
   "source": [
    "# Choose the type of classifier\n",
    "dtree_estimator = DecisionTreeClassifier(class_weight = {0: 0.11, 1: 0.89}, random_state = 1)\n",
    "\n",
    "# Grid of parameters to choose from\n",
    "parameters = {'max_depth': np.arange(2, 7), \n",
    "              'criterion': ['gini', 'entropy'],\n",
    "              'min_samples_leaf': [5, 10, 20, 25]\n",
    "             }\n",
    "\n",
    "# Type of scoring used to compare parameter combinations\n",
    "scorer = metrics.make_scorer(recall_score, pos_label = 1)\n",
    "\n",
    "# Run the grid search\n",
    "gridCV = GridSearchCV(dtree_estimator, parameters, scoring = scorer, cv = 10)\n",
    "\n",
    "# Fitting the grid search on the train data\n",
    "gridCV = gridCV.fit(x_train, y_train)\n",
    "\n",
    "# Set the classifier to the best combination of parameters\n",
    "dtree_estimator = gridCV.best_estimator_\n",
    "\n",
    "# Fit the best estimator to the data\n",
    "dtree_estimator.fit(x_train, y_train)"
   ]
  },
  {
   "cell_type": "code",
   "execution_count": null,
   "id": "dfc0a677",
   "metadata": {
    "colab": {
     "base_uri": "https://localhost:8080/",
     "height": 363
    },
    "executionInfo": {
     "elapsed": 253,
     "status": "error",
     "timestamp": 1652246626256,
     "user": {
      "displayName": "Derick Jones",
      "userId": "05040782416209808795"
     },
     "user_tz": 300
    },
    "id": "dfc0a677",
    "outputId": "3d3dcd88-23d7-49b5-efd1-61288e522857"
   },
   "outputs": [],
   "source": [
    "# Checking performance on the training dataset\n",
    "y_train_pred_dt = dtree_estimator.predict(x_train)\n",
    "\n",
    "metrics_score(y_train, y_train_pred_dt)"
   ]
  },
  {
   "cell_type": "code",
   "execution_count": null,
   "id": "beab219a",
   "metadata": {
    "colab": {
     "base_uri": "https://localhost:8080/",
     "height": 500
    },
    "executionInfo": {
     "elapsed": 372,
     "status": "ok",
     "timestamp": 1651927797480,
     "user": {
      "displayName": "Derick Jones",
      "userId": "05040782416209808795"
     },
     "user_tz": 300
    },
    "id": "beab219a",
    "outputId": "0a0e2f19-f3c2-47bb-cc62-a0ae3cbe6292"
   },
   "outputs": [],
   "source": [
    "# Checking performance on the test dataset\n",
    "y_test_pred_dt = dtree_estimator.predict(x_test)\n",
    "\n",
    "metrics_score(y_test, y_test_pred_dt)"
   ]
  },
  {
   "cell_type": "code",
   "execution_count": null,
   "id": "cb6218b0",
   "metadata": {
    "colab": {
     "base_uri": "https://localhost:8080/",
     "height": 790
    },
    "executionInfo": {
     "elapsed": 8041,
     "status": "ok",
     "timestamp": 1651927812536,
     "user": {
      "displayName": "Derick Jones",
      "userId": "05040782416209808795"
     },
     "user_tz": 300
    },
    "id": "cb6218b0",
    "outputId": "8acb3d48-6a33-43ef-a9b3-05e32a2c1edf"
   },
   "outputs": [],
   "source": [
    "importances = dtree_estimator.feature_importances_\n",
    "\n",
    "columns = X.columns\n",
    "\n",
    "importance_df = pd.DataFrame(importances, index = columns, columns = ['Importance']).sort_values(by = 'Importance', ascending = False)\n",
    "\n",
    "plt.figure(figsize = (13, 13))\n",
    "\n",
    "sns.barplot(importance_df.Importance, importance_df.index)"
   ]
  },
  {
   "cell_type": "code",
   "execution_count": null,
   "id": "HJEHbrbXkxnu",
   "metadata": {
    "colab": {
     "base_uri": "https://localhost:8080/",
     "height": 1000
    },
    "executionInfo": {
     "elapsed": 199,
     "status": "ok",
     "timestamp": 1651927889488,
     "user": {
      "displayName": "Derick Jones",
      "userId": "05040782416209808795"
     },
     "user_tz": 300
    },
    "id": "HJEHbrbXkxnu",
    "outputId": "e0e0178a-11ec-45b5-e393-ba39258c0592"
   },
   "outputs": [],
   "source": [
    "importance_df"
   ]
  },
  {
   "cell_type": "code",
   "execution_count": null,
   "id": "99844686",
   "metadata": {
    "colab": {
     "base_uri": "https://localhost:8080/",
     "height": 1000
    },
    "executionInfo": {
     "elapsed": 2630,
     "status": "ok",
     "timestamp": 1651927818790,
     "user": {
      "displayName": "Derick Jones",
      "userId": "05040782416209808795"
     },
     "user_tz": 300
    },
    "id": "99844686",
    "outputId": "3208857f-6928-4c45-a662-6a49c08d8e28"
   },
   "outputs": [],
   "source": [
    "# Plot the Tree\n",
    "\n",
    "features = list(X.columns)\n",
    "\n",
    "plt.figure(figsize = (30, 20))\n",
    "\n",
    "tree.plot_tree(dt, max_depth = 4, feature_names = features, filled = True, fontsize = 12, node_ids = True, class_names = True)\n",
    "\n",
    "plt.show()\n",
    "\n"
   ]
  },
  {
   "cell_type": "markdown",
   "id": "RhPmXfIAZ6ki",
   "metadata": {
    "id": "RhPmXfIAZ6ki"
   },
   "source": [
    "# Boosting\n",
    "\n",
    "good article - https://medium.com/@dmahidhara/dealing-with-rare-events-in-machine-learning-14c2c167e222 "
   ]
  },
  {
   "cell_type": "markdown",
   "id": "QCzDZEYn6S5a",
   "metadata": {
    "id": "QCzDZEYn6S5a"
   },
   "source": [
    "## ADA Boost"
   ]
  },
  {
   "cell_type": "markdown",
   "id": "9EhKIvDX7DEM",
   "metadata": {
    "id": "9EhKIvDX7DEM"
   },
   "source": [
    "If the AdaBoost ensemble is overfitting the training set, you can try reducing the number of estimators or more strongly regularizing the base estimator. "
   ]
  },
  {
   "cell_type": "code",
   "execution_count": null,
   "id": "-V681eJM6W4I",
   "metadata": {
    "id": "-V681eJM6W4I"
   },
   "outputs": [],
   "source": [
    "from sklearn.ensemble import AdaBoostClassifier"
   ]
  },
  {
   "cell_type": "code",
   "execution_count": null,
   "id": "bZvx248e6h_D",
   "metadata": {
    "colab": {
     "base_uri": "https://localhost:8080/"
    },
    "executionInfo": {
     "elapsed": 645639,
     "status": "ok",
     "timestamp": 1652427958890,
     "user": {
      "displayName": "Derick Jones",
      "userId": "05040782416209808795"
     },
     "user_tz": 300
    },
    "id": "bZvx248e6h_D",
    "outputId": "47b60e1f-5380-4d4f-f5e3-1138bdbf6d19"
   },
   "outputs": [],
   "source": [
    "ada_clf = AdaBoostClassifier(\n",
    "    DecisionTreeClassifier(max_depth=1),n_estimators=200,\n",
    "    algorithm=\"SAMME.R\", learning_rate=1, random_state = 0)\n",
    "ada_clf.fit(x_train, y_train)\n"
   ]
  },
  {
   "cell_type": "code",
   "execution_count": null,
   "id": "HT4rjth_8Wm2",
   "metadata": {
    "colab": {
     "base_uri": "https://localhost:8080/",
     "height": 512
    },
    "executionInfo": {
     "elapsed": 167370,
     "status": "ok",
     "timestamp": 1652428269848,
     "user": {
      "displayName": "Derick Jones",
      "userId": "05040782416209808795"
     },
     "user_tz": 300
    },
    "id": "HT4rjth_8Wm2",
    "outputId": "56be08b1-e9c3-4525-bbe4-aa92d6488e36"
   },
   "outputs": [],
   "source": [
    "# Checking performance on the training dataset\n",
    "y_train_pred_ada_clf = ada_clf.predict(x_train)\n",
    "\n",
    "metrics_score(y_train, y_train_pred_ada_clf)"
   ]
  },
  {
   "cell_type": "code",
   "execution_count": null,
   "id": "ZLTZhH5O9U6G",
   "metadata": {
    "colab": {
     "base_uri": "https://localhost:8080/",
     "height": 508
    },
    "executionInfo": {
     "elapsed": 72583,
     "status": "ok",
     "timestamp": 1652428518644,
     "user": {
      "displayName": "Derick Jones",
      "userId": "05040782416209808795"
     },
     "user_tz": 300
    },
    "id": "ZLTZhH5O9U6G",
    "outputId": "b3146dad-d1a4-4022-9990-ed119081384f"
   },
   "outputs": [],
   "source": [
    "# Checking performance on the test dataset\n",
    "y_test_pred_ada_clf = ada_clf.predict(x_test)\n",
    "\n",
    "metrics_score(y_test, y_test_pred_ada_clf)"
   ]
  },
  {
   "cell_type": "markdown",
   "id": "9pfI-QQ39wQ9",
   "metadata": {
    "id": "9pfI-QQ39wQ9"
   },
   "source": [
    "## Gradient Boosting"
   ]
  },
  {
   "cell_type": "code",
   "execution_count": null,
   "id": "9YVtk8Cx9vGU",
   "metadata": {
    "id": "9YVtk8Cx9vGU"
   },
   "outputs": [],
   "source": [
    "from sklearn.ensemble import GradientBoostingClassifier"
   ]
  },
  {
   "cell_type": "code",
   "execution_count": null,
   "id": "wblL0jLL9vCo",
   "metadata": {
    "id": "wblL0jLL9vCo"
   },
   "outputs": [],
   "source": [
    "# Build Gradient Boost Model\n",
    "gbclf = GradientBoostingClassifier(n_estimators = 100, learning_rate=1.0, max_depth=1,gbrandom_state=0)"
   ]
  },
  {
   "cell_type": "code",
   "execution_count": null,
   "id": "O3eIil3U9u-y",
   "metadata": {
    "id": "O3eIil3U9u-y"
   },
   "outputs": [],
   "source": [
    "# Fit the model\n",
    "gbclf.fit(x_train, y_train)"
   ]
  },
  {
   "cell_type": "code",
   "execution_count": null,
   "id": "MYFOR-uR9u7r",
   "metadata": {
    "id": "MYFOR-uR9u7r"
   },
   "outputs": [],
   "source": [
    "# Checking performance on the training dataset\n",
    "y_train_pred_gbclf = gbclf.predict(x_train)\n",
    "\n",
    "metrics_score(y_train, y_train_pred_gbclf)"
   ]
  },
  {
   "cell_type": "code",
   "execution_count": null,
   "id": "YCDRLP5D9ulG",
   "metadata": {
    "id": "YCDRLP5D9ulG"
   },
   "outputs": [],
   "source": [
    "# Checking performance on the test dataset\n",
    "y_test_pred_gbclf = gbclf.predict(x_test)\n",
    "\n",
    "metrics_score(y_test, y_test_pred_gbclf)"
   ]
  },
  {
   "cell_type": "code",
   "execution_count": null,
   "id": "38D7cYg6aBBW",
   "metadata": {
    "id": "38D7cYg6aBBW"
   },
   "outputs": [],
   "source": [
    "from sklearn.ensemble import GradientBoostingClassifier"
   ]
  },
  {
   "cell_type": "code",
   "execution_count": null,
   "id": "zkJ0Jpu8aGQN",
   "metadata": {
    "id": "zkJ0Jpu8aGQN"
   },
   "outputs": [],
   "source": [
    "# Fitting the Gradient Boost classifier on the training data\n",
    "gb_estimator = GradientBoostingClassifier(learning_rate=0.1, min_samples_split=5,min_samples_leaf=5,max_depth=8,max_features='sqrt',subsample=0.8,random_state=1)"
   ]
  },
  {
   "cell_type": "code",
   "execution_count": null,
   "id": "N3GpFYA4eBO4",
   "metadata": {
    "id": "N3GpFYA4eBO4"
   },
   "outputs": [],
   "source": [
    "#Grid Search Gradient Boost\n",
    "\n",
    "parameters = {\n",
    "    \"loss\":[\"deviance\"],\n",
    "    \"learning_rate\": [0.01, 0.025, 0.05, 0.075, 0.1, 0.15, 0.2],\n",
    "    \"min_samples_split\": np.linspace(0.1, 0.5, 12),\n",
    "    \"min_samples_leaf\": np.linspace(0.1, 0.5, 12),\n",
    "    \"max_depth\":[3,5,8],\n",
    "    \"max_features\":[\"log2\",\"sqrt\"],\n",
    "    \"criterion\": [\"friedman_mse\",  \"mae\"],\n",
    "    \"subsample\":[0.5, 0.618, 0.8, 0.85, 0.9, 0.95, 1.0],\n",
    "    \"n_estimators\":[10]\n",
    "    }\n",
    "\n",
    "clf = GridSearchCV(GradientBoostingClassifier(), parameters, cv=10, n_jobs=-1)\n",
    "\n",
    "clf.fit(x_train, y_train)\n",
    "print(clf.score(x_train, y_train))\n",
    "print(clf.best_params_)\n"
   ]
  },
  {
   "cell_type": "code",
   "execution_count": null,
   "id": "d2zmQ8skaGTb",
   "metadata": {
    "colab": {
     "base_uri": "https://localhost:8080/"
    },
    "executionInfo": {
     "elapsed": 5148,
     "status": "ok",
     "timestamp": 1652245571739,
     "user": {
      "displayName": "Derick Jones",
      "userId": "05040782416209808795"
     },
     "user_tz": 300
    },
    "id": "d2zmQ8skaGTb",
    "outputId": "46ec5048-73cb-4b2a-8b33-dbfde78edae0"
   },
   "outputs": [],
   "source": [
    "gb_estimator.fit(x_train, y_train)"
   ]
  },
  {
   "cell_type": "code",
   "execution_count": null,
   "id": "P8-O4GupaGWB",
   "metadata": {
    "colab": {
     "base_uri": "https://localhost:8080/",
     "height": 508
    },
    "executionInfo": {
     "elapsed": 889,
     "status": "ok",
     "timestamp": 1652245575279,
     "user": {
      "displayName": "Derick Jones",
      "userId": "05040782416209808795"
     },
     "user_tz": 300
    },
    "id": "P8-O4GupaGWB",
    "outputId": "3dca367f-0fa7-45dd-906e-953683efdb99"
   },
   "outputs": [],
   "source": [
    "# Checking performance on the training data\n",
    "y_pred_train_gb = gb_estimator.predict(x_train)\n",
    "\n",
    "metrics_score(y_train, y_pred_train_gb)"
   ]
  },
  {
   "cell_type": "code",
   "execution_count": null,
   "id": "1DtazW-uisFw",
   "metadata": {
    "colab": {
     "base_uri": "https://localhost:8080/",
     "height": 279
    },
    "executionInfo": {
     "elapsed": 603,
     "status": "ok",
     "timestamp": 1652246196720,
     "user": {
      "displayName": "Derick Jones",
      "userId": "05040782416209808795"
     },
     "user_tz": 300
    },
    "id": "1DtazW-uisFw",
    "outputId": "ee4e5e6c-a496-4db3-8b5a-73fd4300ee0b"
   },
   "outputs": [],
   "source": [
    "# ROC Curve\n",
    "#define metrics\n",
    "fpr, tpr, _ = metrics.roc_curve(y_train,  y_pred_train_gb)\n",
    "auc = metrics.roc_auc_score(y_train, y_pred_train_gb)\n",
    "\n",
    "#create ROC curve\n",
    "plt.plot(fpr,tpr,label=\"AUC=\"+str(auc))\n",
    "plt.ylabel('True Positive Rate')\n",
    "plt.xlabel('False Positive Rate')\n",
    "plt.legend(loc=4)\n",
    "plt.show()"
   ]
  },
  {
   "cell_type": "code",
   "execution_count": null,
   "id": "bpXixftqaGZD",
   "metadata": {
    "colab": {
     "base_uri": "https://localhost:8080/",
     "height": 508
    },
    "executionInfo": {
     "elapsed": 572,
     "status": "ok",
     "timestamp": 1652245580635,
     "user": {
      "displayName": "Derick Jones",
      "userId": "05040782416209808795"
     },
     "user_tz": 300
    },
    "id": "bpXixftqaGZD",
    "outputId": "907b17d7-94ae-42f5-b71f-26eefdd92cc3"
   },
   "outputs": [],
   "source": [
    "# Checking performance on the testing data\n",
    "y_pred_test_gb = gb_estimator.predict(x_test)\n",
    "\n",
    "metrics_score(y_test, y_pred_test_gb)"
   ]
  },
  {
   "cell_type": "code",
   "execution_count": null,
   "id": "urrNFgs2aGcM",
   "metadata": {
    "colab": {
     "base_uri": "https://localhost:8080/",
     "height": 279
    },
    "executionInfo": {
     "elapsed": 326,
     "status": "ok",
     "timestamp": 1652246317136,
     "user": {
      "displayName": "Derick Jones",
      "userId": "05040782416209808795"
     },
     "user_tz": 300
    },
    "id": "urrNFgs2aGcM",
    "outputId": "3986c47b-3c0b-43fa-9cf3-7890484e91ca"
   },
   "outputs": [],
   "source": [
    "# ROC Curve\n",
    "#define metrics\n",
    "fpr, tpr, _ = metrics.roc_curve(y_test, y_pred_test_gb)\n",
    "auc = metrics.roc_auc_score(y_test, y_pred_test_gb)\n",
    "\n",
    "#create ROC curve\n",
    "plt.plot(fpr,tpr,label=\"AUC=\"+str(auc))\n",
    "plt.ylabel('True Positive Rate')\n",
    "plt.xlabel('False Positive Rate')\n",
    "plt.legend(loc=4)\n",
    "plt.show()"
   ]
  },
  {
   "cell_type": "markdown",
   "id": "qetywQqiMq3v",
   "metadata": {
    "id": "qetywQqiMq3v"
   },
   "source": [
    "## XGBOOST"
   ]
  },
  {
   "cell_type": "code",
   "execution_count": null,
   "id": "YysW0EnbMj2A",
   "metadata": {
    "id": "YysW0EnbMj2A"
   },
   "outputs": [],
   "source": [
    "## LCE - Local Cascade Ensemble\n",
    "\n",
    "https://towardsdatascience.com/random-forest-or-xgboost-it-is-time-to-explore-lce-2fed913eafb8"
   ]
  },
  {
   "cell_type": "code",
   "execution_count": null,
   "id": "IYWTmpHvMjy8",
   "metadata": {
    "colab": {
     "base_uri": "https://localhost:8080/",
     "height": 991
    },
    "executionInfo": {
     "elapsed": 27851,
     "status": "ok",
     "timestamp": 1653851303528,
     "user": {
      "displayName": "Derick Jones",
      "userId": "05040782416209808795"
     },
     "user_tz": 300
    },
    "id": "IYWTmpHvMjy8",
    "outputId": "f33e43f9-f9f7-420e-bf02-8a689086c4d6"
   },
   "outputs": [],
   "source": [
    "pip install lcensemble"
   ]
  },
  {
   "cell_type": "code",
   "execution_count": null,
   "id": "5aZWelZPMjv-",
   "metadata": {
    "colab": {
     "base_uri": "https://localhost:8080/",
     "height": 130
    },
    "executionInfo": {
     "elapsed": 149,
     "status": "error",
     "timestamp": 1653851315071,
     "user": {
      "displayName": "Derick Jones",
      "userId": "05040782416209808795"
     },
     "user_tz": 300
    },
    "id": "5aZWelZPMjv-",
    "outputId": "56bec7b8-7e63-4790-bbf0-a595b053f4a0"
   },
   "outputs": [],
   "source": [
    "conda install -c conda-forge lcensemble"
   ]
  },
  {
   "cell_type": "code",
   "execution_count": null,
   "id": "hiADS_ZIMjs4",
   "metadata": {
    "executionInfo": {
     "elapsed": 443,
     "status": "ok",
     "timestamp": 1653851320483,
     "user": {
      "displayName": "Derick Jones",
      "userId": "05040782416209808795"
     },
     "user_tz": 300
    },
    "id": "hiADS_ZIMjs4"
   },
   "outputs": [],
   "source": [
    "from lce import LCEClassifier\n",
    "from sklearn.datasets import load_iris\n",
    "from sklearn.metrics import classification_report\n",
    "from sklearn.model_selection import cross_val_score, train_test_split"
   ]
  },
  {
   "cell_type": "code",
   "execution_count": null,
   "id": "W7hnNaRMNSzG",
   "metadata": {
    "colab": {
     "base_uri": "https://localhost:8080/"
    },
    "executionInfo": {
     "elapsed": 1006302,
     "status": "ok",
     "timestamp": 1653852330532,
     "user": {
      "displayName": "Derick Jones",
      "userId": "05040782416209808795"
     },
     "user_tz": 300
    },
    "id": "W7hnNaRMNSzG",
    "outputId": "d545465d-86ee-4f72-a279-18d0df418567"
   },
   "outputs": [],
   "source": [
    "# Load data and generate a train/test split\n",
    "data = load_iris()\n",
    "X_train, X_test, y_train, y_test = train_test_split(data.data, \n",
    "                                                    data.target, \n",
    "                                                    random_state=0)\n",
    "\n",
    "# Train LCEClassifier with default parameters\n",
    "clf = LCEClassifier(n_jobs=-1, random_state=123)\n",
    "clf.fit(X_train, y_train)\n",
    "\n",
    "# Make prediction and generate classification report\n",
    "y_pred = clf.predict(X_test)\n",
    "print(classification_report(y_test, y_pred))"
   ]
  },
  {
   "cell_type": "code",
   "execution_count": null,
   "id": "IpISVmmVNVd7",
   "metadata": {
    "colab": {
     "base_uri": "https://localhost:8080/"
    },
    "executionInfo": {
     "elapsed": 2968246,
     "status": "ok",
     "timestamp": 1653856905336,
     "user": {
      "displayName": "Derick Jones",
      "userId": "05040782416209808795"
     },
     "user_tz": 300
    },
    "id": "IpISVmmVNVd7",
    "outputId": "c353d511-6375-460f-b286-fa74b33cef7f"
   },
   "outputs": [],
   "source": [
    "# Perform cross-validation with scikit-learn model selection tool \n",
    "print(cross_val_score(clf, data.data, data.target, cv=3))"
   ]
  },
  {
   "cell_type": "code",
   "execution_count": null,
   "id": "MRQYGx7nNsSB",
   "metadata": {
    "id": "MRQYGx7nNsSB"
   },
   "outputs": [],
   "source": []
  },
  {
   "cell_type": "code",
   "execution_count": null,
   "id": "eTvKBOxCNsPQ",
   "metadata": {
    "colab": {
     "base_uri": "https://localhost:8080/",
     "height": 373
    },
    "executionInfo": {
     "elapsed": 303,
     "status": "error",
     "timestamp": 1653851258359,
     "user": {
      "displayName": "Derick Jones",
      "userId": "05040782416209808795"
     },
     "user_tz": 300
    },
    "id": "eTvKBOxCNsPQ",
    "outputId": "2cdf4ca8-4c51-49b9-9d5f-6ccc4029acd5"
   },
   "outputs": [],
   "source": [
    "import numpy as np\n",
    "from lce import LCEClassifier\n",
    "from sklearn.datasets import load_iris\n",
    "from sklearn.metrics import classification_report\n",
    "from sklearn.model_selection import train_test_split"
   ]
  },
  {
   "cell_type": "code",
   "execution_count": null,
   "id": "8hUuZaQjNsMG",
   "metadata": {
    "id": "8hUuZaQjNsMG"
   },
   "outputs": [],
   "source": [
    "# Load data and generate a train/test split\n",
    "data = load_iris()\n",
    "X_train, X_test, y_train, y_test = train_test_split(data.data, \n",
    "                                                    data.target, \n",
    "                                                    random_state=0)\n",
    "\n",
    "# Input 20% of missing values per variable in the train set\n",
    "np.random.seed(0)\n",
    "m = 0.2\n",
    "for j in range(0, X_train.shape[1]):\n",
    "    sub = np.random.choice(X_train.shape[0], int(X_train.shape[0]*m))\n",
    "    X_train[sub, j] = np.nan\n",
    "\n",
    "# Train LCEClassifier with default parameters\n",
    "clf = LCEClassifier(n_jobs=-1, random_state=123)\n",
    "clf.fit(X_train, y_train)\n",
    "\n",
    "# Make prediction and generate classification report\n",
    "y_pred = clf.predict(X_test)\n",
    "print(classification_report(y_test, y_pred))"
   ]
  },
  {
   "cell_type": "code",
   "execution_count": null,
   "id": "nDDnQ5LXNsI7",
   "metadata": {
    "id": "nDDnQ5LXNsI7"
   },
   "outputs": [],
   "source": []
  },
  {
   "cell_type": "code",
   "execution_count": null,
   "id": "ikEI6Y-lNsFn",
   "metadata": {
    "id": "ikEI6Y-lNsFn"
   },
   "outputs": [],
   "source": []
  },
  {
   "cell_type": "markdown",
   "id": "9630cda1",
   "metadata": {
    "id": "9630cda1"
   },
   "source": [
    "#  Random Forest Classifier\n",
    "\n",
    "**Random Forest is a bagging algorithm where the base models are Decision Trees.** Samples are taken from the training data and on each sample, a decision tree makes a prediction. \n",
    "\n",
    "**The results from all the decision trees are combined and the final prediction is made using voting (for classification problems) or averaging (for regression problems).**"
   ]
  },
  {
   "cell_type": "code",
   "execution_count": null,
   "id": "v6ISsA6BNgiZ",
   "metadata": {
    "colab": {
     "base_uri": "https://localhost:8080/",
     "height": 404
    },
    "executionInfo": {
     "elapsed": 9957,
     "status": "ok",
     "timestamp": 1651927947076,
     "user": {
      "displayName": "Derick Jones",
      "userId": "05040782416209808795"
     },
     "user_tz": 300
    },
    "id": "v6ISsA6BNgiZ",
    "outputId": "9c389458-3d0e-4948-d074-05cdfcac4545"
   },
   "outputs": [],
   "source": [
    "from sklearn.ensemble import RandomForestClassifier\n",
    "\n",
    "train_scores = []\n",
    "\n",
    "test_scores = []\n",
    "\n",
    "for depth in range(1, 10):\n",
    "    \n",
    "    clf = RandomForestClassifier(random_state = 0, criterion = 'entropy', max_depth = depth, n_estimators = 25)\n",
    "    \n",
    "    clf = clf.fit(x_train, y_train)\n",
    "    \n",
    "    train_scores.append(1 - clf.score(x_train, y_train))\n",
    "    \n",
    "    test_scores.append(1 - clf.score(x_test, y_test))\n",
    "\n",
    "plt.plot(range(1, 10), train_scores, '-o', label = \"train\")\n",
    "\n",
    "plt.plot(range(1, 10), test_scores, '-o', label = \"test\")\n",
    "\n",
    "plt.legend(loc = 'upper right')\n",
    "\n",
    "plt.xlabel('max depth')\n",
    "\n",
    "plt.ylim(0, 0.3)\n",
    "\n",
    "plt.ylabel('misclassification error (pcnt)')\n",
    "\n",
    "plt.title(f\"Random Forest with 25 estimators\")\n",
    "\n",
    "fig = plt.gcf()\n",
    "\n",
    "fig.set_size_inches(10, 6)\n",
    "\n",
    "plt.show()"
   ]
  },
  {
   "cell_type": "code",
   "execution_count": null,
   "id": "b3cad673",
   "metadata": {
    "colab": {
     "base_uri": "https://localhost:8080/"
    },
    "executionInfo": {
     "elapsed": 13711,
     "status": "ok",
     "timestamp": 1651927972332,
     "user": {
      "displayName": "Derick Jones",
      "userId": "05040782416209808795"
     },
     "user_tz": 300
    },
    "id": "b3cad673",
    "outputId": "c06fdb33-1d52-4c1d-bbac-b0d71493df7a"
   },
   "outputs": [],
   "source": [
    "# Fitting the Random Forest classifier on the training data\n",
    "rf_estimator = RandomForestClassifier(class_weight = {0: 0.12, 1: 0.88}, random_state = 1)\n",
    "\n",
    "rf_estimator.fit(x_train, y_train)"
   ]
  },
  {
   "cell_type": "code",
   "execution_count": null,
   "id": "f5b4203a",
   "metadata": {
    "colab": {
     "base_uri": "https://localhost:8080/",
     "height": 500
    },
    "executionInfo": {
     "elapsed": 1952,
     "status": "ok",
     "timestamp": 1651927976431,
     "user": {
      "displayName": "Derick Jones",
      "userId": "05040782416209808795"
     },
     "user_tz": 300
    },
    "id": "f5b4203a",
    "outputId": "473d99e6-a628-4b38-e8b9-36dde0f732f7"
   },
   "outputs": [],
   "source": [
    "# Checking performance on the training data\n",
    "y_pred_train_rf = rf_estimator.predict(x_train)\n",
    "\n",
    "metrics_score(y_train, y_pred_train_rf)"
   ]
  },
  {
   "cell_type": "code",
   "execution_count": null,
   "id": "33a2cc9e",
   "metadata": {
    "colab": {
     "base_uri": "https://localhost:8080/",
     "height": 502
    },
    "executionInfo": {
     "elapsed": 1026,
     "status": "ok",
     "timestamp": 1651927981232,
     "user": {
      "displayName": "Derick Jones",
      "userId": "05040782416209808795"
     },
     "user_tz": 300
    },
    "id": "33a2cc9e",
    "outputId": "42de2e0e-a416-4ca1-aa94-3ccb40af4404"
   },
   "outputs": [],
   "source": [
    "# Checking performance on the testing data\n",
    "y_pred_test_rf = rf_estimator.predict(x_test)\n",
    "\n",
    "metrics_score(y_test, y_pred_test_rf)"
   ]
  },
  {
   "cell_type": "markdown",
   "id": "d5640c85",
   "metadata": {
    "id": "d5640c85"
   },
   "source": [
    "**Let's check the feature importance of the Random Forest**"
   ]
  },
  {
   "cell_type": "code",
   "execution_count": null,
   "id": "6c05f46e",
   "metadata": {
    "colab": {
     "base_uri": "https://localhost:8080/",
     "height": 1000
    },
    "executionInfo": {
     "elapsed": 8657,
     "status": "ok",
     "timestamp": 1651927999337,
     "user": {
      "displayName": "Derick Jones",
      "userId": "05040782416209808795"
     },
     "user_tz": 300
    },
    "id": "6c05f46e",
    "outputId": "f4ec4deb-9def-4f3a-e0a7-0879c928bc6f"
   },
   "outputs": [],
   "source": [
    "importances = rf_estimator.feature_importances_\n",
    "\n",
    "columns = X.columns\n",
    "\n",
    "importance_df = pd.DataFrame(importances, index = columns, columns = ['Importance']).sort_values(by = 'Importance', ascending = False)\n",
    "\n",
    "plt.figure(figsize = (21, 21))\n",
    "\n",
    "sns.barplot(importance_df.Importance, importance_df.index)"
   ]
  },
  {
   "cell_type": "code",
   "execution_count": null,
   "id": "_wn4SB0sKlva",
   "metadata": {
    "colab": {
     "base_uri": "https://localhost:8080/",
     "height": 1000
    },
    "executionInfo": {
     "elapsed": 203,
     "status": "ok",
     "timestamp": 1651928008278,
     "user": {
      "displayName": "Derick Jones",
      "userId": "05040782416209808795"
     },
     "user_tz": 300
    },
    "id": "_wn4SB0sKlva",
    "outputId": "b7f23dc7-bf35-4114-a912-72eee85a7f02"
   },
   "outputs": [],
   "source": [
    "importance_df"
   ]
  },
  {
   "cell_type": "markdown",
   "id": "03d29370",
   "metadata": {
    "id": "03d29370"
   },
   "source": [
    "### **Tuning Hyperparameters of the Random Forest classifier**"
   ]
  },
  {
   "cell_type": "markdown",
   "id": "36e5cd3b",
   "metadata": {
    "id": "36e5cd3b"
   },
   "source": [
    "**n_estimators**: The number of trees in the forest.\n",
    "\n",
    "**min_samples_split**: The minimum number of samples required to split an internal node.\n",
    "\n",
    "**min_samples_leaf**: The minimum number of samples required to be at a leaf node. \n",
    "\n",
    "**max_features{“auto”, “sqrt”, “log2”, 'None'}**: The number of features to consider when looking for the best split.\n",
    "\n",
    "- If “auto”, then max_features=sqrt(n_features).\n",
    "\n",
    "- If “sqrt”, then max_features=sqrt(n_features) (same as “auto”).\n",
    "\n",
    "- If “log2”, then max_features=log2(n_features).\n",
    "\n",
    "- If None, then max_features=n_features."
   ]
  },
  {
   "cell_type": "code",
   "execution_count": null,
   "id": "f58a588b",
   "metadata": {
    "colab": {
     "base_uri": "https://localhost:8080/",
     "height": 399
    },
    "executionInfo": {
     "elapsed": 1435012,
     "status": "error",
     "timestamp": 1651949085868,
     "user": {
      "displayName": "Derick Jones",
      "userId": "05040782416209808795"
     },
     "user_tz": 300
    },
    "id": "f58a588b",
    "outputId": "37d911ed-4c34-4124-afe2-680b2e5344a9"
   },
   "outputs": [],
   "source": [
    "# Choose the type of classifier\n",
    "rf_estimator_tuned = RandomForestClassifier(class_weight = {0: 0.12, 1: 0.88}, random_state = 1)\n",
    "\n",
    "# Grid of parameters to choose from\n",
    "params_rf = {  \n",
    "        \"n_estimators\": [100, 250, 500],\n",
    "        \"min_samples_leaf\": np.arange(1, 4, 1),\n",
    "        \"max_features\": [0.7, 0.9, 'auto'],\n",
    "}\n",
    "\n",
    "\n",
    "# Type of scoring used to compare parameter combinations - recall score for class 1\n",
    "scorer = metrics.make_scorer(recall_score, pos_label = 1)\n",
    "\n",
    "# Run the grid search\n",
    "grid_obj = GridSearchCV(rf_estimator_tuned, params_rf, scoring = scorer, cv = 5)\n",
    "\n",
    "grid_obj = grid_obj.fit(x_train, y_train)\n",
    "\n",
    "# Set the classifier to the best combination of parameters\n",
    "rf_estimator_tuned = grid_obj.best_estimator_"
   ]
  },
  {
   "cell_type": "code",
   "execution_count": null,
   "id": "57ee423e",
   "metadata": {
    "id": "57ee423e"
   },
   "outputs": [],
   "source": [
    "# Fitting the best algorithm to the training data\n",
    "rf_estimator_tuned.fit(x_train, y_train)"
   ]
  },
  {
   "cell_type": "code",
   "execution_count": null,
   "id": "40d7f00b",
   "metadata": {
    "id": "40d7f00b"
   },
   "outputs": [],
   "source": [
    "# Checking performance on the training data\n",
    "y_pred_train_rf_tuned = rf_estimator_tuned.predict(x_train)\n",
    "\n",
    "metrics_score(y_train, y_pred_train_rf_tuned)"
   ]
  },
  {
   "cell_type": "code",
   "execution_count": null,
   "id": "002f2820",
   "metadata": {
    "id": "002f2820"
   },
   "outputs": [],
   "source": [
    "# Checking performance on the test data\n",
    "y_pred_test_rf_tuned = rf_estimator_tuned.predict(x_test)\n",
    "\n",
    "metrics_score(y_test, y_pred_test_rf_tuned)"
   ]
  },
  {
   "cell_type": "code",
   "execution_count": null,
   "id": "cad27332",
   "metadata": {
    "id": "cad27332"
   },
   "outputs": [],
   "source": [
    "# Plotting feature importance\n",
    "importances = rf_estimator_tuned.feature_importances_\n",
    "\n",
    "columns = X.columns\n",
    "\n",
    "importance_df = pd.DataFrame(importances, index = columns, columns = ['Importance']).sort_values(by = 'Importance', ascending = False)\n",
    "\n",
    "plt.figure(figsize = (13, 13))\n",
    "\n",
    "sns.barplot(importance_df.Importance, importance_df.index)"
   ]
  },
  {
   "cell_type": "markdown",
   "id": "161d474a",
   "metadata": {
    "id": "161d474a"
   },
   "source": [
    "### **Tune Random Forest Using GridSearch**\n",
    "- **Tune the random forest classifier using GridSearchCV (2 Marks)**\n",
    "- **Check the performance on both training and testing datasets (2 Marks)**\n",
    "- **Compare the results with the results from the random forest model with default parameters and write your observations (2 Marks)**"
   ]
  },
  {
   "cell_type": "code",
   "execution_count": null,
   "id": "b6b92831",
   "metadata": {
    "id": "b6b92831"
   },
   "outputs": [],
   "source": [
    "# Choose the type of classifier \n",
    "rf_estimator_tuned = RandomForestClassifier(criterion = \"entropy\", random_state = 1)\n",
    "\n",
    "# Grid of parameters to choose from\n",
    "parameters = {\"n_estimators\": [110, 120],\n",
    "    \"max_depth\": [6, 7],\n",
    "    \"min_samples_leaf\": [20, 25],\n",
    "    \"max_features\": [0.8, 0.9],\n",
    "    \"max_samples\": [0.9, 1],\n",
    "    \"class_weight\": [{0: 0.7, 1: 0.3}, \"balanced\", {0: 0.4, 1: 0.1}]\n",
    "             }\n",
    "\n",
    "# Type of scoring used to compare parameter combinations - recall score for class 1\n",
    "scorer = metrics.make_scorer(recall_score, pos_label = 1)\n",
    "\n",
    "# Run the grid search on the training data using scorer=scorer and cv=5\n",
    "grid_obj = GridSearchCV(rf_estimator_tuned, parameters, scoring = scorer, cv = 5)\n",
    "\n",
    "grid_obj = grid_obj.fit(X_train, y_train)\n",
    "\n",
    "# Save the best estimator to variable rf_estimator_tuned\n",
    "rf_estimator_tuned = grid_obj.best_estimator_\n",
    "\n",
    "#Fit the best estimator to the training data\n",
    "rf_estimator_tuned.fit(X_train, y_train)"
   ]
  },
  {
   "cell_type": "markdown",
   "id": "RUdlHrD_07EI",
   "metadata": {
    "id": "RUdlHrD_07EI"
   },
   "source": [
    "# Neural Networks"
   ]
  },
  {
   "cell_type": "code",
   "execution_count": null,
   "id": "ymZ5Q6to1ICD",
   "metadata": {
    "id": "ymZ5Q6to1ICD"
   },
   "outputs": [],
   "source": [
    "## **Loading the libraries and the dataset**"
   ]
  },
  {
   "cell_type": "markdown",
   "id": "byATlE7N1OOJ",
   "metadata": {
    "id": "byATlE7N1OOJ"
   },
   "source": [
    "We will be using **Google Colab** to run this notebook. \n",
    "\n",
    "First, let's **import the data** so that Colab can access the dataset. One way to load the data in Colab is by uploading the dataset directly in the notebook. The following code does just that.\n",
    "Once you run the cell, it would ask you to choose the file from your local system."
   ]
  },
  {
   "cell_type": "code",
   "execution_count": null,
   "id": "krBOGDLD1H8V",
   "metadata": {
    "id": "krBOGDLD1H8V"
   },
   "outputs": [],
   "source": [
    "import numpy as np\n",
    "\n",
    "import pandas as pd\n",
    "\n",
    "import matplotlib.pyplot as plt\n",
    "\n",
    "import seaborn as sns\n",
    "\n",
    "from sklearn.model_selection import train_test_split\n",
    "\n",
    "from sklearn.preprocessing import MinMaxScaler\n",
    "\n",
    "import tensorflow as tf\n",
    "\n",
    "from tensorflow.keras.models import Sequential\n",
    "\n",
    "from tensorflow.keras.layers import Dense, Dropout, Activation"
   ]
  },
  {
   "cell_type": "code",
   "execution_count": null,
   "id": "JzXcbq9-1H5H",
   "metadata": {
    "colab": {
     "base_uri": "https://localhost:8080/",
     "height": 317
    },
    "executionInfo": {
     "elapsed": 9,
     "status": "ok",
     "timestamp": 1652283220794,
     "user": {
      "displayName": "Derick Jones",
      "userId": "05040782416209808795"
     },
     "user_tz": 300
    },
    "id": "JzXcbq9-1H5H",
    "outputId": "668bb891-d61e-44b4-919c-bfb66f29d660"
   },
   "outputs": [],
   "source": [
    "df.head()"
   ]
  },
  {
   "cell_type": "code",
   "execution_count": null,
   "id": "CqinoKLk1H2K",
   "metadata": {
    "id": "CqinoKLk1H2K"
   },
   "outputs": [],
   "source": [
    "# Converting the target variable into a categorical variable\n",
    "#df['Admit'] = data['Chance of Admit '].apply(lambda x: 1 if x > 0.8 else 0)"
   ]
  },
  {
   "cell_type": "code",
   "execution_count": null,
   "id": "4oG2TBZl1HzT",
   "metadata": {
    "id": "4oG2TBZl1HzT"
   },
   "outputs": [],
   "source": [
    "# Dropping columns\n",
    "#data = data.drop(['Serial No.', 'Chance of Admit '], axis = 1)\n",
    "\n",
    "#data.head()"
   ]
  },
  {
   "cell_type": "code",
   "execution_count": null,
   "id": "HnTWCgTt1Hwu",
   "metadata": {
    "colab": {
     "base_uri": "https://localhost:8080/",
     "height": 424
    },
    "executionInfo": {
     "elapsed": 24510,
     "status": "ok",
     "timestamp": 1652283248466,
     "user": {
      "displayName": "Derick Jones",
      "userId": "05040782416209808795"
     },
     "user_tz": 300
    },
    "id": "HnTWCgTt1Hwu",
    "outputId": "92b06f5f-0111-425b-e039-b94774fa114e"
   },
   "outputs": [],
   "source": [
    "df.describe().T"
   ]
  },
  {
   "cell_type": "markdown",
   "id": "n3Syg0HxwlQz",
   "metadata": {
    "id": "n3Syg0HxwlQz"
   },
   "source": [
    "## Split, Scale, Normalize"
   ]
  },
  {
   "cell_type": "markdown",
   "id": "I-Xnd6dH3p41",
   "metadata": {
    "id": "I-Xnd6dH3p41"
   },
   "source": [
    "Now, let's split the dataset into train and test datasets. To do that, we would be extracting all the **independent variables** and saving them into a variable **features**. And the target variable **Admit** would be saved into a variable **target**. These two variables will be used to split the parent dataset into train and test datasets."
   ]
  },
  {
   "cell_type": "code",
   "execution_count": null,
   "id": "rku47hIO1Ht5",
   "metadata": {
    "id": "rku47hIO1Ht5"
   },
   "outputs": [],
   "source": [
    "features = df.drop(['outcome_Yes'], axis = 1)\n",
    "\n",
    "target = df['outcome_Yes']"
   ]
  },
  {
   "cell_type": "code",
   "execution_count": null,
   "id": "9juTdJQS1HrG",
   "metadata": {
    "id": "9juTdJQS1HrG"
   },
   "outputs": [],
   "source": [
    "# Splitting the dataset into the train and the test data\n",
    "X_train, X_test, y_train, y_test =  train_test_split(features, target, test_size = 0.3, random_state = 42)"
   ]
  },
  {
   "cell_type": "code",
   "execution_count": null,
   "id": "aH8xQV6N1HoM",
   "metadata": {
    "id": "aH8xQV6N1HoM"
   },
   "outputs": [],
   "source": [
    "scaler = MinMaxScaler()\n",
    "\n",
    "# Here, we are passing all the features (numerical and categorical), that's okay as min-max scaler will not change values of categorical variables\n",
    "X_train_normalized = scaler.fit_transform(X_train)"
   ]
  },
  {
   "cell_type": "code",
   "execution_count": null,
   "id": "KO_fm_TM1HlD",
   "metadata": {
    "id": "KO_fm_TM1HlD"
   },
   "outputs": [],
   "source": [
    "X_test_normalized = scaler.transform(X_test)"
   ]
  },
  {
   "cell_type": "markdown",
   "id": "IXeM5Rt34spk",
   "metadata": {
    "id": "IXeM5Rt34spk"
   },
   "source": [
    "## Model Building"
   ]
  },
  {
   "cell_type": "markdown",
   "id": "29hXGRnO40v0",
   "metadata": {
    "id": "29hXGRnO40v0"
   },
   "source": [
    "In neural networks, there are so many hyper-parameters that you can play around with and tune the network to get the best results. Some of them are: \n",
    "\n",
    "\n",
    "1.   Number of hidden layers\n",
    "2.   Number of neurons in each hidden layer\n",
    "3.   Activation functions in hidden layers\n",
    "4.   Optimizers\n",
    "5.   Random initialization of weights and biases\n",
    "6.   Batch size\n",
    "7.   Learning rate\n",
    "8.   Early stopping\n",
    "9.   L1 and L2 Regularization\n",
    "10.  Dropout\n",
    "11.  Momentum\n",
    "\n",
    "and so on..."
   ]
  },
  {
   "cell_type": "markdown",
   "id": "YFIu6lrc5DF-",
   "metadata": {
    "id": "YFIu6lrc5DF-"
   },
   "source": [
    "First, let's set the seed for random number generators in NumPy, Python, and TensorFlow to be able to reproduce the same results every time we run the code."
   ]
  },
  {
   "cell_type": "markdown",
   "id": "7cAZNTHh5AXl",
   "metadata": {
    "id": "7cAZNTHh5AXl"
   },
   "source": []
  },
  {
   "cell_type": "code",
   "execution_count": null,
   "id": "Jm2x5CEQ1Hfo",
   "metadata": {
    "id": "Jm2x5CEQ1Hfo"
   },
   "outputs": [],
   "source": [
    "# Fixing the seed for random number generators\n",
    "np.random.seed(42)\n",
    "\n",
    "import random\n",
    "\n",
    "random.seed(42)\n",
    "\n",
    "tf.random.set_seed(42)"
   ]
  },
  {
   "cell_type": "code",
   "execution_count": null,
   "id": "xqkNB5As6DAH",
   "metadata": {
    "colab": {
     "base_uri": "https://localhost:8080/"
    },
    "executionInfo": {
     "elapsed": 908,
     "status": "ok",
     "timestamp": 1652282287955,
     "user": {
      "displayName": "Derick Jones",
      "userId": "05040782416209808795"
     },
     "user_tz": 300
    },
    "id": "xqkNB5As6DAH",
    "outputId": "e29f6023-2722-45ec-f1b5-5470dd6d990b"
   },
   "outputs": [],
   "source": [
    "#(rows,columns)\n",
    "features.shape"
   ]
  },
  {
   "cell_type": "markdown",
   "id": "6_2QUxC95Ub-",
   "metadata": {
    "id": "6_2QUxC95Ub-"
   },
   "source": [
    "Let's build a feed-forward neural network with 2 hidden layers and the output layer."
   ]
  },
  {
   "cell_type": "code",
   "execution_count": null,
   "id": "wCD2xZ8O1HdK",
   "metadata": {
    "id": "wCD2xZ8O1HdK"
   },
   "outputs": [],
   "source": [
    "# We will be adding the layers sequentially\n",
    "model_1 = Sequential()\n",
    "\n",
    "# First hidden layer with 128 neurons and relu activation function, the input_shape tuple denotes number of independent variables\n",
    "model_1.add(Dense(128, activation = 'relu', input_shape = (1774, )))\n",
    "\n",
    "# We will be switching 20% of neurons randomly at each iteration to avoid overfitting\n",
    "model_1.add(Dropout(0.2))\n",
    "\n",
    "# Second hidden layer with 64 neurons and relu activation function\n",
    "model_1.add(Dense(64, activation = 'relu'))\n",
    "\n",
    "# We will be switching 10% of neurons off randomly at each iteration to avoid \n",
    "model_1.add(Dropout(0.1))\n",
    "\n",
    "# Output layer with only one neuron and sigmoid as activation function which will give the probability of students getting admitted into UCLA  \n",
    "model_1.add(Dense(1, activation = 'sigmoid'))"
   ]
  },
  {
   "cell_type": "markdown",
   "id": "IhxqU9Fr5gS0",
   "metadata": {
    "id": "IhxqU9Fr5gS0"
   },
   "source": [
    "Once we are done with the model architecture, we need to compile the model, where we need to provide the loss function that we want to optimize, the optimization algorithm, and the evaluation metric that we are interested in to evaluate the model."
   ]
  },
  {
   "cell_type": "markdown",
   "id": "vG9AQdpg5lWf",
   "metadata": {
    "id": "vG9AQdpg5lWf"
   },
   "source": [
    "Since this is a binary classification task, we will be minimizing the **binary_crossentropy** and we can choose one optimizer out of \n",
    "1.   SGD\n",
    "2.   RMSprop\n",
    "3.   Adam\n",
    "4.   Adadelta\n",
    "5.   Adagrad\n",
    "6.   Adamax\n",
    "7.   Nadam\n",
    "8.   Ftrl\n",
    "\n",
    "This is a hyper-parameter. You can play around with these optimizers to check which one performs better with a particular data.\n",
    "\n",
    "For now, let's try **adamax** optimizer with **accuracy** as the metric and see the model's summary."
   ]
  },
  {
   "cell_type": "code",
   "execution_count": null,
   "id": "b68PboFe1HXu",
   "metadata": {
    "colab": {
     "base_uri": "https://localhost:8080/"
    },
    "executionInfo": {
     "elapsed": 225,
     "status": "ok",
     "timestamp": 1652282307740,
     "user": {
      "displayName": "Derick Jones",
      "userId": "05040782416209808795"
     },
     "user_tz": 300
    },
    "id": "b68PboFe1HXu",
    "outputId": "7439aa43-3358-44be-ff5a-386ca08dde2a"
   },
   "outputs": [],
   "source": [
    "model_1.compile(loss = 'binary_crossentropy', optimizer = 'adamax', metrics = ['accuracy'])\n",
    "\n",
    "model_1.summary()"
   ]
  },
  {
   "cell_type": "markdown",
   "id": "gYKp82K669NR",
   "metadata": {
    "id": "gYKp82K669NR"
   },
   "source": [
    "### Training the Model"
   ]
  },
  {
   "cell_type": "markdown",
   "id": "GgzJKIYv7Co8",
   "metadata": {
    "id": "GgzJKIYv7Co8"
   },
   "source": [
    "\n",
    "Let's now train the model using the below piece of code. We will keep 10% of the training data for validation."
   ]
  },
  {
   "cell_type": "code",
   "execution_count": null,
   "id": "CLcEYanZ1HVJ",
   "metadata": {
    "colab": {
     "base_uri": "https://localhost:8080/"
    },
    "executionInfo": {
     "elapsed": 64007,
     "status": "ok",
     "timestamp": 1652282374202,
     "user": {
      "displayName": "Derick Jones",
      "userId": "05040782416209808795"
     },
     "user_tz": 300
    },
    "id": "CLcEYanZ1HVJ",
    "outputId": "8e9745b1-1528-4e8b-dbea-ded6f7a7f11b"
   },
   "outputs": [],
   "source": [
    "history_1 = model_1.fit(X_train_normalized, \n",
    "                        \n",
    "                    y_train,\n",
    "\n",
    "                    validation_split = 0.1, \n",
    "\n",
    "                    epochs = 20, \n",
    "\n",
    "                    verbose = 2)"
   ]
  },
  {
   "cell_type": "markdown",
   "id": "DaFum0uX85SQ",
   "metadata": {
    "id": "DaFum0uX85SQ"
   },
   "source": [
    "### **Plotting Accuracy vs Epoch Curve**"
   ]
  },
  {
   "cell_type": "code",
   "execution_count": null,
   "id": "SZyg0qJ81HPG",
   "metadata": {
    "colab": {
     "base_uri": "https://localhost:8080/",
     "height": 295
    },
    "executionInfo": {
     "elapsed": 320,
     "status": "ok",
     "timestamp": 1652282378556,
     "user": {
      "displayName": "Derick Jones",
      "userId": "05040782416209808795"
     },
     "user_tz": 300
    },
    "id": "SZyg0qJ81HPG",
    "outputId": "56a53c66-9a05-47e9-ef9a-95b15b01a400"
   },
   "outputs": [],
   "source": [
    "plt.plot(history_1.history['accuracy'])\n",
    "\n",
    "plt.plot(history_1.history['val_accuracy'])\n",
    "\n",
    "plt.title('Accuracy vs Epochs')\n",
    "\n",
    "plt.ylabel('Accuracy')\n",
    "\n",
    "plt.xlabel('Epoch')\n",
    "\n",
    "plt.legend(['Train', 'Validation'], loc = 'lower right')\n",
    "\n",
    "plt.show()"
   ]
  },
  {
   "cell_type": "markdown",
   "id": "B5PvYGv58-6E",
   "metadata": {
    "id": "B5PvYGv58-6E"
   },
   "source": [
    "### **HyperParameter Tuning**"
   ]
  },
  {
   "cell_type": "markdown",
   "id": "XKkdjjwF9Rk9",
   "metadata": {
    "id": "XKkdjjwF9Rk9"
   },
   "source": [
    "let's try to change the number of hidden layers, the number of neurons in each hidden layer, the activation function in the hidden layer, and the optimizer from **adamax** to **adam**. Also, we have observed that validation accuracy became constant after some epochs, let's try less number of epochs which would also reduce the computation time. "
   ]
  },
  {
   "cell_type": "code",
   "execution_count": null,
   "id": "AS1B_3KN1HL0",
   "metadata": {
    "id": "AS1B_3KN1HL0"
   },
   "outputs": [],
   "source": [
    "# Clearing the backend\n",
    "from tensorflow.keras import backend\n",
    "\n",
    "backend.clear_session()"
   ]
  },
  {
   "cell_type": "code",
   "execution_count": null,
   "id": "ZSbrRgfT9HOL",
   "metadata": {
    "id": "ZSbrRgfT9HOL"
   },
   "outputs": [],
   "source": [
    "# Fixing the seed for random number generators\n",
    "np.random.seed(42)\n",
    "\n",
    "import random\n",
    "\n",
    "random.seed(42)\n",
    "\n",
    "tf.random.set_seed(42)"
   ]
  },
  {
   "cell_type": "code",
   "execution_count": null,
   "id": "o4nbprFl9HRG",
   "metadata": {
    "id": "o4nbprFl9HRG"
   },
   "outputs": [],
   "source": [
    "model_2 = Sequential()\n",
    "\n",
    "model_2.add(Dense(128, activation = 'relu', input_shape = (3110, )))\n",
    "\n",
    "model_2.add(Dropout(0.3))\n",
    "\n",
    "model_2.add(Dense(64, activation = 'relu'))\n",
    "\n",
    "model_2.add(Dropout(0.3))\n",
    "\n",
    "model_2.add(Dense(32, activation = 'relu'))\n",
    "\n",
    "model_2.add(Dense(1, activation = 'sigmoid'))"
   ]
  },
  {
   "cell_type": "code",
   "execution_count": null,
   "id": "gHlGR2pB9HT2",
   "metadata": {
    "colab": {
     "base_uri": "https://localhost:8080/"
    },
    "executionInfo": {
     "elapsed": 273,
     "status": "ok",
     "timestamp": 1652239458109,
     "user": {
      "displayName": "Derick Jones",
      "userId": "05040782416209808795"
     },
     "user_tz": 300
    },
    "id": "gHlGR2pB9HT2",
    "outputId": "deedd62b-ed29-446a-9a4a-5aa8b9d98bbb"
   },
   "outputs": [],
   "source": [
    "model_2.compile(loss = 'binary_crossentropy', optimizer = 'adam', metrics = ['accuracy'])\n",
    "\n",
    "model_2.summary()"
   ]
  },
  {
   "cell_type": "code",
   "execution_count": null,
   "id": "prZ94MT-9HW0",
   "metadata": {
    "colab": {
     "base_uri": "https://localhost:8080/"
    },
    "executionInfo": {
     "elapsed": 36572,
     "status": "ok",
     "timestamp": 1652239497121,
     "user": {
      "displayName": "Derick Jones",
      "userId": "05040782416209808795"
     },
     "user_tz": 300
    },
    "id": "prZ94MT-9HW0",
    "outputId": "f29081c8-f4bd-41cf-8774-9d93324b4b36"
   },
   "outputs": [],
   "source": [
    "history_2 = model_2.fit(X_train_normalized,\n",
    "                         \n",
    "                    y_train, \n",
    "\n",
    "                    validation_split = 0.1,\n",
    "\n",
    "                    epochs = 20,\n",
    "\n",
    "                    verbose = 2)"
   ]
  },
  {
   "cell_type": "code",
   "execution_count": null,
   "id": "hKrgekVM9HZm",
   "metadata": {
    "colab": {
     "base_uri": "https://localhost:8080/",
     "height": 295
    },
    "executionInfo": {
     "elapsed": 271,
     "status": "ok",
     "timestamp": 1652239966696,
     "user": {
      "displayName": "Derick Jones",
      "userId": "05040782416209808795"
     },
     "user_tz": 300
    },
    "id": "hKrgekVM9HZm",
    "outputId": "1c7a862a-8bb9-401e-a5eb-c3d61c492543"
   },
   "outputs": [],
   "source": [
    "plt.plot(history_2.history['accuracy'])\n",
    "\n",
    "plt.plot(history_2.history['val_accuracy'])\n",
    "\n",
    "plt.title('Accuracy vs Epochs')\n",
    "\n",
    "plt.ylabel('Accuracy')\n",
    "\n",
    "plt.xlabel('Epoch')\n",
    "\n",
    "plt.legend(['Train', 'Validation'], loc = 'lower right')\n",
    "\n",
    "plt.show()"
   ]
  },
  {
   "cell_type": "code",
   "execution_count": null,
   "id": "QT9mW0nHLrVZ",
   "metadata": {
    "colab": {
     "base_uri": "https://localhost:8080/",
     "height": 295
    },
    "executionInfo": {
     "elapsed": 324,
     "status": "ok",
     "timestamp": 1652240086279,
     "user": {
      "displayName": "Derick Jones",
      "userId": "05040782416209808795"
     },
     "user_tz": 300
    },
    "id": "QT9mW0nHLrVZ",
    "outputId": "188ca1bf-a5ee-4602-af02-9faf978191c6"
   },
   "outputs": [],
   "source": [
    "plt.plot(history_1.history['loss'])\n",
    "\n",
    "plt.plot(history_1.history['val_loss'])\n",
    "\n",
    "plt.title('Loss vs Epochs')\n",
    "\n",
    "plt.ylabel('Loss')\n",
    "\n",
    "plt.xlabel('Epoch')\n",
    "\n",
    "plt.legend(['Train', 'Validation'], loc = 'upperright')\n",
    "\n",
    "plt.show()"
   ]
  },
  {
   "cell_type": "markdown",
   "id": "csaQ2LcL-zZm",
   "metadata": {
    "id": "csaQ2LcL-zZm"
   },
   "source": [
    " ### Model 3 - Change Learning *Rate*"
   ]
  },
  {
   "cell_type": "code",
   "execution_count": null,
   "id": "AX3NdtIw9HcL",
   "metadata": {
    "id": "AX3NdtIw9HcL"
   },
   "outputs": [],
   "source": [
    "# Clearing the backend\n",
    "from tensorflow.keras import backend\n",
    "\n",
    "backend.clear_session()"
   ]
  },
  {
   "cell_type": "code",
   "execution_count": null,
   "id": "BdrjhST8_DfA",
   "metadata": {
    "id": "BdrjhST8_DfA"
   },
   "outputs": [],
   "source": [
    "# Fixing the seed for random number generators\n",
    "np.random.seed(42)\n",
    "\n",
    "import random\n",
    "\n",
    "random.seed(42)\n",
    "\n",
    "tf.random.set_seed(42)"
   ]
  },
  {
   "cell_type": "code",
   "execution_count": null,
   "id": "U_QDDoMZtT8l",
   "metadata": {
    "colab": {
     "base_uri": "https://localhost:8080/"
    },
    "executionInfo": {
     "elapsed": 246,
     "status": "ok",
     "timestamp": 1652283594072,
     "user": {
      "displayName": "Derick Jones",
      "userId": "05040782416209808795"
     },
     "user_tz": 300
    },
    "id": "U_QDDoMZtT8l",
    "outputId": "e8d5ea1e-d5e6-4066-8c45-7793d6f8509c"
   },
   "outputs": [],
   "source": [
    "df.shape"
   ]
  },
  {
   "cell_type": "code",
   "execution_count": null,
   "id": "iWe_JwtB_Dho",
   "metadata": {
    "id": "iWe_JwtB_Dho"
   },
   "outputs": [],
   "source": [
    "model_3 = Sequential()\n",
    "\n",
    "model_3.add(Dense(512, activation = 'relu', input_shape = (8990, )))\n",
    "\n",
    "model_3.add(Dropout(0.2))\n",
    "\n",
    "model_3.add(Dense(256, activation = 'relu'))\n",
    "\n",
    "model_3.add(Dropout(0.2))\n",
    "\n",
    "model_3.add(Dense(128, activation = 'relu'))\n",
    "\n",
    "model_3.add(Dropout(0.2))\n",
    "\n",
    "model_3.add(Dense(64, activation = 'relu'))\n",
    "\n",
    "model_3.add(Dropout(0.2))\n",
    "\n",
    "model_3.add(Dense(32, activation = 'relu'))\n",
    "\n",
    "\n",
    "\n",
    "model_3.add(Dense(1, activation = 'sigmoid'))"
   ]
  },
  {
   "cell_type": "markdown",
   "id": "TesFy2qkDE3N",
   "metadata": {
    "id": "TesFy2qkDE3N"
   },
   "source": [
    "Metrics: accuracy, AUC, Precision, Recall, F1Score"
   ]
  },
  {
   "cell_type": "code",
   "execution_count": null,
   "id": "sulZM2f0_Dn3",
   "metadata": {
    "colab": {
     "base_uri": "https://localhost:8080/"
    },
    "executionInfo": {
     "elapsed": 245,
     "status": "ok",
     "timestamp": 1652283597893,
     "user": {
      "displayName": "Derick Jones",
      "userId": "05040782416209808795"
     },
     "user_tz": 300
    },
    "id": "sulZM2f0_Dn3",
    "outputId": "0ffa1add-a10b-4c1a-b279-8864e344ebb1"
   },
   "outputs": [],
   "source": [
    "model_3.compile(loss = 'binary_crossentropy', optimizer = tf.keras.optimizers.Adam(learning_rate = 0.0005), metrics = ['accuracy'])\n",
    "\n",
    "model_3.summary()"
   ]
  },
  {
   "cell_type": "code",
   "execution_count": null,
   "id": "r6tES_2A_Dq_",
   "metadata": {
    "colab": {
     "base_uri": "https://localhost:8080/"
    },
    "executionInfo": {
     "elapsed": 84847,
     "status": "ok",
     "timestamp": 1652283685533,
     "user": {
      "displayName": "Derick Jones",
      "userId": "05040782416209808795"
     },
     "user_tz": 300
    },
    "id": "r6tES_2A_Dq_",
    "outputId": "0dec63cb-f812-42c2-df2a-d6e5bf3f8c98"
   },
   "outputs": [],
   "source": [
    "history_3 = model_3.fit(X_train_normalized, \n",
    "                        \n",
    "                    y_train,\n",
    "\n",
    "                    validation_split = 0.1,\n",
    "\n",
    "                    epochs = 20,\n",
    "\n",
    "                    verbose = 2)"
   ]
  },
  {
   "cell_type": "code",
   "execution_count": null,
   "id": "RxMs2TG1_DuV",
   "metadata": {
    "colab": {
     "base_uri": "https://localhost:8080/",
     "height": 295
    },
    "executionInfo": {
     "elapsed": 10,
     "status": "ok",
     "timestamp": 1652283685534,
     "user": {
      "displayName": "Derick Jones",
      "userId": "05040782416209808795"
     },
     "user_tz": 300
    },
    "id": "RxMs2TG1_DuV",
    "outputId": "fb8034e8-6867-4259-e35d-1d63789496ca"
   },
   "outputs": [],
   "source": [
    "plt.plot(history_3.history['accuracy'])\n",
    "\n",
    "plt.plot(history_3.history['val_accuracy'])\n",
    "\n",
    "plt.title('Accuracy vs Epochs')\n",
    "\n",
    "plt.ylabel('Accuracy')\n",
    "\n",
    "plt.xlabel('Epoch')\n",
    "\n",
    "plt.legend(['Train', 'Validation'], loc  = 'lower right')\n",
    "\n",
    "plt.show()"
   ]
  },
  {
   "cell_type": "code",
   "execution_count": null,
   "id": "tYCluQvPtt94",
   "metadata": {
    "colab": {
     "base_uri": "https://localhost:8080/",
     "height": 295
    },
    "executionInfo": {
     "elapsed": 279,
     "status": "ok",
     "timestamp": 1652283694429,
     "user": {
      "displayName": "Derick Jones",
      "userId": "05040782416209808795"
     },
     "user_tz": 300
    },
    "id": "tYCluQvPtt94",
    "outputId": "c3447ee8-b785-448c-e87a-8f8391c2df8f"
   },
   "outputs": [],
   "source": [
    "plt.plot(history_3.history['loss'])\n",
    "\n",
    "plt.plot(history_3.history['val_loss'])\n",
    "\n",
    "plt.title('Loss vs Epochs')\n",
    "\n",
    "plt.ylabel('Loss')\n",
    "\n",
    "plt.xlabel('Epoch')\n",
    "\n",
    "plt.legend(['Train', 'Validation'], loc = 'upperright')\n",
    "\n",
    "plt.show()"
   ]
  },
  {
   "cell_type": "markdown",
   "id": "w-J53TwmAKmj",
   "metadata": {
    "id": "w-J53TwmAKmj"
   },
   "source": [
    "## **Model evaluation on the test data**"
   ]
  },
  {
   "cell_type": "code",
   "execution_count": null,
   "id": "SmoFBSkB_Dwi",
   "metadata": {
    "colab": {
     "base_uri": "https://localhost:8080/"
    },
    "executionInfo": {
     "elapsed": 5027,
     "status": "ok",
     "timestamp": 1652283702842,
     "user": {
      "displayName": "Derick Jones",
      "userId": "05040782416209808795"
     },
     "user_tz": 300
    },
    "id": "SmoFBSkB_Dwi",
    "outputId": "654cf327-2c93-4bd7-961c-f4e758d6c639"
   },
   "outputs": [],
   "source": [
    "model_3.evaluate(X_test_normalized, y_test, verbose = 1)\n",
    "\n",
    "test_pred = np.round(model_3.predict(X_test_normalized))"
   ]
  },
  {
   "cell_type": "code",
   "execution_count": null,
   "id": "ZeCUBqYiBjui",
   "metadata": {
    "colab": {
     "base_uri": "https://localhost:8080/",
     "height": 508
    },
    "executionInfo": {
     "elapsed": 289,
     "status": "ok",
     "timestamp": 1652283703128,
     "user": {
      "displayName": "Derick Jones",
      "userId": "05040782416209808795"
     },
     "user_tz": 300
    },
    "id": "ZeCUBqYiBjui",
    "outputId": "b3fa0186-878d-460f-f830-deb56ae11989"
   },
   "outputs": [],
   "source": [
    "from sklearn.metrics import classification_report\n",
    "\n",
    "from sklearn.metrics import roc_auc_score\n",
    "\n",
    "from sklearn.metrics import confusion_matrix\n",
    "\n",
    "print(classification_report(y_test, test_pred))\n",
    "\n",
    "print('ROC AUC is',roc_auc_score(y_test, test_pred))\n",
    "\n",
    "cm = confusion_matrix(y_test, test_pred)\n",
    "\n",
    "plt.figure(figsize = (8, 5))\n",
    "\n",
    "sns.heatmap(cm, annot = True,  fmt = '.0f', xticklabels = ['Outcome', 'No Outcome'], yticklabels = ['Outcome', 'No Outcome'])\n",
    "\n",
    "plt.ylabel('Actual')\n",
    "\n",
    "plt.xlabel('Predicted')\n",
    "\n",
    "plt.show()"
   ]
  }
 ],
 "metadata": {
  "accelerator": "GPU",
  "colab": {
   "background_execution": "on",
   "collapsed_sections": [
    "e73fc2e9",
    "470d0ba8",
    "cade34ac"
   ],
   "machine_shape": "hm",
   "name": "Adverse Outcomes.ipynb",
   "provenance": [],
   "toc_visible": true
  },
  "kernelspec": {
   "display_name": "Python 3 (ipykernel)",
   "language": "python",
   "name": "python3"
  },
  "language_info": {
   "codemirror_mode": {
    "name": "ipython",
    "version": 3
   },
   "file_extension": ".py",
   "mimetype": "text/x-python",
   "name": "python",
   "nbconvert_exporter": "python",
   "pygments_lexer": "ipython3",
   "version": "3.9.7"
  }
 },
 "nbformat": 4,
 "nbformat_minor": 5
}
